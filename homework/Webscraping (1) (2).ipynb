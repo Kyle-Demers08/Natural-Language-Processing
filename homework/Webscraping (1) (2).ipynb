{
 "cells": [
  {
   "cell_type": "markdown",
   "metadata": {
    "id": "Qf70bFZ97DU6"
   },
   "source": [
    "[![Open in Colab](https://colab.research.google.com/assets/colab-badge.svg)](https://colab.research.google.com/github/JamesMTucker/DATA_340_NLP/blob/master/assignment_notebooks/Webscraping.ipynb)\n",
    "\n",
    "# Webscraping Assignment\n",
    "\n",
    "Reminder: you are permitted to work with another classmate on this assignment. If you do, please submit a single notebook with both of your names at the top.\n",
    "\n",
    "## Due date\n",
    "\n",
    "Friday, February 24 (12:00 pm), 2023\n",
    "\n",
    "## Assignment description\n",
    "\n",
    "In this project you will write a Jupyter Notebook or R Markdown file to scrape a selected website. You will need to:\n",
    "\n",
    "1. Write a function that takes a URL as input and returns the HTML of the page as a string.\n",
    "2. Inspect the HTML of the page and use regular expressions to extract the documents within the page.\n",
    "3. Model the documents in a corpus\n",
    "4. Analyze the corpus using the bag of words model\n",
    "5. Implement a TF-IDF model to extract the most n-important words for each document in the corpus.\n",
    "\n",
    "### Objective\n",
    "\n",
    "This assignment reinforces previous lecture topics on the linguistic background, properties of language, information theory, and Regular Expressions.\n",
    "\n",
    "\n",
    "## Submission medium\n",
    "\n",
    "Jupyter Notebook or R Markdown file. See additional instructions at the final section of this document.\n",
    "\n",
    "## Code Dependencies\n",
    "\n",
    "You will need to install the following packages:\n",
    "\n",
    "- `requests`\n",
    "- `re`\n",
    "- `beautifulsoup4`\n",
    "- `nltk`\n",
    "- `pandas`\n",
    "- `numpy`\n",
    "- `matplotlib`\n",
    "\n",
    "\n",
    "## Grading\n",
    "\n",
    "This assignment is worth 10 points. (extra credit 1 point to final grade if you create a heatmap of the TF-IDF matrix)"
   ]
  },
  {
   "cell_type": "markdown",
   "metadata": {
    "id": "SKfWCVB-7DVH"
   },
   "source": [
    "## Write a function that takes a URL as input and returns the HTML of the page as a string"
   ]
  },
  {
   "cell_type": "markdown",
   "metadata": {
    "id": "c0WHvtNw7DVJ"
   },
   "source": [
    "### 1.1 Write a function that takes a URL as input and returns the HTML of the page as a string"
   ]
  },
  {
   "cell_type": "code",
   "execution_count": 1,
   "metadata": {
    "id": "S9whOiD17DVL",
    "tags": []
   },
   "outputs": [],
   "source": [
    "import requests\n",
    "\n",
    "def get_html(url) -> str:\n",
    "    \"\"\"Get the HTML of a webpage and return the HTML as a string.\n",
    "    \n",
    "    Parameters\n",
    "    ----------\n",
    "    url : str\n",
    "        The URL of the webpage to scrape.\n",
    "    \n",
    "    Returns\n",
    "    -------\n",
    "    str\n",
    "        The HTML of the webpage as a string.\n",
    "    \"\"\"\n",
    "    html_source: str = requests.get(url).text\n",
    "    assert isinstance(html_source, str), \"The HTML should be a string.\"\n",
    "    return html_source"
   ]
  },
  {
   "cell_type": "markdown",
   "metadata": {
    "id": "kkr0WlsZ7DVO"
   },
   "source": [
    "### 1.2 Inspect the HTML of the page. Can you identify any patterns in the HTML that might be useful for extracting the documents within the page?"
   ]
  },
  {
   "cell_type": "code",
   "execution_count": 2,
   "metadata": {
    "id": "LNvYdC547DVR",
    "tags": []
   },
   "outputs": [],
   "source": [
    "# Extract the the HTML source code from the URL (this is the same URL we used in class)\n",
    "url = \"https://www.gutenberg.org/files/1/1-0.txt\"\n",
    "\n",
    "# YOUR CODE HERE\n",
    "html = get_html(url)\n",
    "#html"
   ]
  },
  {
   "cell_type": "markdown",
   "metadata": {},
   "source": [
    "The following patterns are notable:\n",
    " - [etext#x] is a common pattern before the etext is displayed\n",
    " \n",
    "usually after the [etext#x] we can see:\n",
    "\n",
    " - \"The project of gutenberg Etext of *insert title here*"
   ]
  },
  {
   "cell_type": "markdown",
   "metadata": {
    "id": "ozS8sZqd7DVS"
   },
   "source": [
    "### 1.3 Use the BeautifulSoup library to create a BeautifulSoup object from the HTML string"
   ]
  },
  {
   "cell_type": "code",
   "execution_count": 3,
   "metadata": {
    "tags": []
   },
   "outputs": [
    {
     "name": "stdout",
     "output_type": "stream",
     "text": [
      "Collecting lxml\n",
      "  Using cached lxml-4.9.2-cp310-cp310-manylinux_2_17_x86_64.manylinux2014_x86_64.manylinux_2_24_x86_64.whl (7.1 MB)\n",
      "Installing collected packages: lxml\n",
      "Successfully installed lxml-4.9.2\n"
     ]
    }
   ],
   "source": [
    "!pip install lxml"
   ]
  },
  {
   "cell_type": "code",
   "execution_count": 4,
   "metadata": {
    "id": "rKErqsVh7DVT",
    "tags": []
   },
   "outputs": [],
   "source": [
    "from bs4 import BeautifulSoup as bs4\n",
    "\n",
    "soup = bs4(html,'lxml')\n",
    "# YOUR CODE HERE"
   ]
  },
  {
   "cell_type": "markdown",
   "metadata": {
    "id": "qt9TQ_Oh7DVV"
   },
   "source": [
    "### 1.3 Extract the HTML body text and examine the contents."
   ]
  },
  {
   "cell_type": "code",
   "execution_count": 5,
   "metadata": {
    "id": "lncHHr067DVW",
    "tags": []
   },
   "outputs": [],
   "source": [
    "# Please explain what the following line of code does in the cell below.\n",
    "body = soup.find(\"body\")\n",
    "#body"
   ]
  },
  {
   "cell_type": "markdown",
   "metadata": {
    "id": "LSCwQ4NV7DVX"
   },
   "source": [
    "The code\n",
    "```python\n",
    "soup.find(\"body\")\n",
    "```\n",
    "tells soup to return everything under the first body tag in the html, since there can only be one body in html, this returns the only body tag."
   ]
  },
  {
   "cell_type": "markdown",
   "metadata": {
    "id": "aZyY8Ruf7DVX"
   },
   "source": [
    "### 1.4 Use regular expressions to extract the documents within the page"
   ]
  },
  {
   "cell_type": "code",
   "execution_count": 6,
   "metadata": {
    "id": "3MxLe7FL7DVY",
    "tags": []
   },
   "outputs": [],
   "source": [
    "import re\n",
    "\n",
    "# Your regex here to capture the documents\n",
    "doc_extractor = r\"(?<=\\[Etext #\\d\\])[^\\f]+?(?=\\[Etext #\\d\\]|(?=End of The Project Gutenberg EBook of The Declaration of Independence))\"\n",
    "# Explain this line of code in the cell below.\n",
    "# __Note:__ You will need to use the `re.MULTILINE` flag to ensure that the\n",
    "# regular expression matches across multiple lines.\n",
    "found_documents: list = re.findall(doc_extractor, body.text, re.MULTILINE)\n",
    "\n",
    "\n",
    "assert len(found_documents) == 9, \"Please check your regex. You should have found a total 9 documents.\"\n",
    "\n",
    "## if you are having trouble with the regex remeber that you can use regex101.com to test and debug.\n"
   ]
  },
  {
   "cell_type": "markdown",
   "metadata": {
    "id": "45Jl5uvG7DVZ"
   },
   "source": [
    "Explain: `documents = re.findall(doc_extractor, body.text, re.MULTILINE)`\n",
    "\n"
   ]
  },
  {
   "cell_type": "markdown",
   "metadata": {
    "tags": []
   },
   "source": [
    "### Answer:\n",
    "The doc extractor is a regular expression that uses the look ahead and look behind operator to match any text that is not a \\f operator (which represents a form feed) Between any two \"[Etext #]\"'s or between the end text from Project Gutenberg being \"End of The Project Gutenberg EBook of The Declaration of Independence\". This last or operator is used to find Etext#9 and the end of the etext since there is no [Etext #] marker. The code:\n",
    "```python\n",
    "found_documents: list = re.findall(doc_extractor, body.text, re.MULTILINE)\n",
    "```\n",
    "Returns a list with all information matching the regular expression from doc extractor using the raw text from body. The re.MULTILINE argument matches the start or end of any line within our string body.text\n"
   ]
  },
  {
   "cell_type": "markdown",
   "metadata": {
    "id": "2lUUsZ3C7DVa"
   },
   "source": [
    "## 1.5 Explore the contents of the Documents\n",
    "\n",
    "In the matched documents, you will find a heading appended to the text by project Gutenberg. For the purposes of this assignment, I provided a cleaner function to extract the Gutenberg headings from the text for you."
   ]
  },
  {
   "cell_type": "code",
   "execution_count": 7,
   "metadata": {
    "id": "W7NtN6-97DVa",
    "tags": []
   },
   "outputs": [],
   "source": [
    "def clean_gutenberg(text: str) -> str:\n",
    "    \"\"\"Clean the text of a Gutenberg document.\n",
    "    \n",
    "    Parameters\n",
    "    ----------\n",
    "    text : str\n",
    "        The text of a Gutenberg document.\n",
    "    \n",
    "    Returns\n",
    "    -------\n",
    "    str\n",
    "        The cleaned text of the document.\n",
    "    \"\"\"\n",
    "    text = re.sub(r\"\\[Etext #\\d+\\]\", \"\", text)\n",
    "    text = re.sub(r\"(\\r\\n)+\", \" \", text)\n",
    "    text = re.sub(r\"^The Project Gutenberg.*?Independence\\*\\*\", \"\", text, flags=re.MULTILINE)\n",
    "    text = re.sub(r\"^ \\*\\*\\*\\*The Project Gutenberg Etext of The U. S. Bill of Rights\\*\\*\\*\\*\", \"\", text, flags=re.MULTILINE)\n",
    "    text = re.sub(r\"^ November.*?EST\", \"\", text, flags=re.MULTILINE)\n",
    "    text = re.sub(r\"^ \\*\\*The Project.*?, USA\", \"\", text, flags=re.MULTILINE)\n",
    "    text = re.sub(r\"^ \\*\\*\\*\\*\\*The Project.*?corrections\\. \\*\\*\\*\", \"\", text, flags=re.MULTILINE)\n",
    "    text = re.sub(r\"^ The Project.*?1775\\.\", \"\", text, flags=re.MULTILINE)\n",
    "    text = re.sub(r\"^ Officially.*?calendar\\]\", \"\", text, flags=re.MULTILINE)\n",
    "    text = re.sub(r\"^ \\*\\*The Project.*?, 1865\", \"\", text, flags=re.MULTILINE)\n",
    "    text = re.sub(r\"^ The Project.*?, 1861\", \"\", text, flags=re.MULTILINE)\n",
    "    \n",
    "    return text.strip()"
   ]
  },
  {
   "cell_type": "code",
   "execution_count": 8,
   "metadata": {
    "id": "NQy9oVc67DVc",
    "tags": []
   },
   "outputs": [],
   "source": [
    "corpus = []\n",
    "\n",
    "for i, doc in enumerate(found_documents):\n",
    "    # YOUR CODE HERE\n",
    "    corpus.append(clean_gutenberg(doc))"
   ]
  },
  {
   "cell_type": "code",
   "execution_count": 9,
   "metadata": {
    "id": "5Vmr0ml27DVd",
    "tags": []
   },
   "outputs": [
    {
     "data": {
      "text/plain": [
       "\"The Project Gutenberg Etext of The Declaration of Independence. All of the original Project Gutenberg Etexts from the 1970's were produced in ALL CAPS, no lower case.  The computers we used then didn'\""
      ]
     },
     "execution_count": 9,
     "metadata": {},
     "output_type": "execute_result"
    }
   ],
   "source": [
    "# Explore the corpus here\n",
    "corpus[0][0:200]"
   ]
  },
  {
   "cell_type": "markdown",
   "metadata": {
    "id": "RP4SHsFh7DVe"
   },
   "source": [
    "# Analyze the above corpus of documents using TF-IDF\n",
    "\n",
    "In the follow steps, I would like for you to accomplish the follow preprocessing steps. \n",
    "\n",
    "1. Tokenize the documents\n",
    "2. Lemmatize the tokens\n",
    "3. Remove stop words\n",
    "4. Remove punctuation\n",
    "5. Apply TF-IDF to the corpus\n",
    "    * You can write a TF-IDF model from sratch or use the `sklearn` library\n",
    "\n",
    "_tip: see lecture notebooks 4, 5, and 6 for examples of how to work with pandas_\n"
   ]
  },
  {
   "cell_type": "code",
   "execution_count": 10,
   "metadata": {
    "id": "7yq25Rrx7DVf",
    "tags": []
   },
   "outputs": [],
   "source": [
    "### TIP ###\n",
    "## if you want to work with pandas create a dataframe with documents as rows and columns for the document number and the text\n",
    "import pandas as pd\n",
    "corpus = pd.DataFrame({\"docID\": range(len(corpus)), \"text\": corpus})"
   ]
  },
  {
   "cell_type": "code",
   "execution_count": 11,
   "metadata": {
    "tags": []
   },
   "outputs": [
    {
     "data": {
      "text/html": [
       "<div>\n",
       "<style scoped>\n",
       "    .dataframe tbody tr th:only-of-type {\n",
       "        vertical-align: middle;\n",
       "    }\n",
       "\n",
       "    .dataframe tbody tr th {\n",
       "        vertical-align: top;\n",
       "    }\n",
       "\n",
       "    .dataframe thead th {\n",
       "        text-align: right;\n",
       "    }\n",
       "</style>\n",
       "<table border=\"1\" class=\"dataframe\">\n",
       "  <thead>\n",
       "    <tr style=\"text-align: right;\">\n",
       "      <th></th>\n",
       "      <th>docID</th>\n",
       "      <th>text</th>\n",
       "    </tr>\n",
       "  </thead>\n",
       "  <tbody>\n",
       "    <tr>\n",
       "      <th>0</th>\n",
       "      <td>0</td>\n",
       "      <td>The Project Gutenberg Etext of The Declaration...</td>\n",
       "    </tr>\n",
       "    <tr>\n",
       "      <th>1</th>\n",
       "      <td>1</td>\n",
       "      <td>The United States Bill of Rights. The Ten Orig...</td>\n",
       "    </tr>\n",
       "    <tr>\n",
       "      <th>2</th>\n",
       "      <td>2</td>\n",
       "      <td>We observe today not a victory of party but a ...</td>\n",
       "    </tr>\n",
       "    <tr>\n",
       "      <th>3</th>\n",
       "      <td>3</td>\n",
       "      <td>Four score and seven years ago, our fathers br...</td>\n",
       "    </tr>\n",
       "    <tr>\n",
       "      <th>4</th>\n",
       "      <td>4</td>\n",
       "      <td>THE CONSTITUTION OF THE UNITED STATES OF AMERI...</td>\n",
       "    </tr>\n",
       "  </tbody>\n",
       "</table>\n",
       "</div>"
      ],
      "text/plain": [
       "   docID                                               text\n",
       "0      0  The Project Gutenberg Etext of The Declaration...\n",
       "1      1  The United States Bill of Rights. The Ten Orig...\n",
       "2      2  We observe today not a victory of party but a ...\n",
       "3      3  Four score and seven years ago, our fathers br...\n",
       "4      4  THE CONSTITUTION OF THE UNITED STATES OF AMERI..."
      ]
     },
     "execution_count": 11,
     "metadata": {},
     "output_type": "execute_result"
    }
   ],
   "source": [
    "corpus.head()"
   ]
  },
  {
   "cell_type": "code",
   "execution_count": 12,
   "metadata": {
    "tags": []
   },
   "outputs": [
    {
     "name": "stdout",
     "output_type": "stream",
     "text": [
      "Collecting nltk\n",
      "  Using cached nltk-3.8.1-py3-none-any.whl (1.5 MB)\n",
      "Requirement already satisfied: tqdm in /opt/conda/lib/python3.10/site-packages (from nltk) (4.64.1)\n",
      "Collecting regex>=2021.8.3\n",
      "  Using cached regex-2022.10.31-cp310-cp310-manylinux_2_17_x86_64.manylinux2014_x86_64.whl (770 kB)\n",
      "Requirement already satisfied: joblib in /opt/conda/lib/python3.10/site-packages (from nltk) (1.2.0)\n",
      "Requirement already satisfied: click in /opt/conda/lib/python3.10/site-packages (from nltk) (8.1.3)\n",
      "Installing collected packages: regex, nltk\n",
      "Successfully installed nltk-3.8.1 regex-2022.10.31\n"
     ]
    }
   ],
   "source": [
    "!pip install nltk"
   ]
  },
  {
   "cell_type": "markdown",
   "metadata": {
    "id": "GH_7QVBJ7DVf"
   },
   "source": [
    "## Tokenize the documents"
   ]
  },
  {
   "cell_type": "code",
   "execution_count": 14,
   "metadata": {
    "id": "ULxuyrHX7DVg",
    "tags": []
   },
   "outputs": [],
   "source": [
    "## Your code here\n",
    "from nltk.tokenize import word_tokenize\n",
    "import warnings\n",
    "warnings.filterwarnings('ignore')"
   ]
  },
  {
   "cell_type": "code",
   "execution_count": 15,
   "metadata": {
    "tags": []
   },
   "outputs": [],
   "source": [
    "for i in range(len(corpus)):\n",
    "    corpus['text'][i] = word_tokenize(corpus['text'][i])"
   ]
  },
  {
   "cell_type": "code",
   "execution_count": 16,
   "metadata": {
    "tags": []
   },
   "outputs": [
    {
     "data": {
      "text/html": [
       "<div>\n",
       "<style scoped>\n",
       "    .dataframe tbody tr th:only-of-type {\n",
       "        vertical-align: middle;\n",
       "    }\n",
       "\n",
       "    .dataframe tbody tr th {\n",
       "        vertical-align: top;\n",
       "    }\n",
       "\n",
       "    .dataframe thead th {\n",
       "        text-align: right;\n",
       "    }\n",
       "</style>\n",
       "<table border=\"1\" class=\"dataframe\">\n",
       "  <thead>\n",
       "    <tr style=\"text-align: right;\">\n",
       "      <th></th>\n",
       "      <th>docID</th>\n",
       "      <th>text</th>\n",
       "    </tr>\n",
       "  </thead>\n",
       "  <tbody>\n",
       "    <tr>\n",
       "      <th>0</th>\n",
       "      <td>0</td>\n",
       "      <td>[The, Project, Gutenberg, Etext, of, The, Decl...</td>\n",
       "    </tr>\n",
       "    <tr>\n",
       "      <th>1</th>\n",
       "      <td>1</td>\n",
       "      <td>[The, United, States, Bill, of, Rights, ., The...</td>\n",
       "    </tr>\n",
       "    <tr>\n",
       "      <th>2</th>\n",
       "      <td>2</td>\n",
       "      <td>[We, observe, today, not, a, victory, of, part...</td>\n",
       "    </tr>\n",
       "    <tr>\n",
       "      <th>3</th>\n",
       "      <td>3</td>\n",
       "      <td>[Four, score, and, seven, years, ago, ,, our, ...</td>\n",
       "    </tr>\n",
       "    <tr>\n",
       "      <th>4</th>\n",
       "      <td>4</td>\n",
       "      <td>[THE, CONSTITUTION, OF, THE, UNITED, STATES, O...</td>\n",
       "    </tr>\n",
       "    <tr>\n",
       "      <th>5</th>\n",
       "      <td>5</td>\n",
       "      <td>[No, man, thinks, more, highly, than, I, do, o...</td>\n",
       "    </tr>\n",
       "    <tr>\n",
       "      <th>6</th>\n",
       "      <td>6</td>\n",
       "      <td>[In, the, name, of, God, ,, Amen, ., We, ,, wh...</td>\n",
       "    </tr>\n",
       "    <tr>\n",
       "      <th>7</th>\n",
       "      <td>7</td>\n",
       "      <td>[Fellow, countrymen, :, At, this, second, appe...</td>\n",
       "    </tr>\n",
       "    <tr>\n",
       "      <th>8</th>\n",
       "      <td>8</td>\n",
       "      <td>[Fellow, citizens, of, the, United, States, :,...</td>\n",
       "    </tr>\n",
       "  </tbody>\n",
       "</table>\n",
       "</div>"
      ],
      "text/plain": [
       "   docID                                               text\n",
       "0      0  [The, Project, Gutenberg, Etext, of, The, Decl...\n",
       "1      1  [The, United, States, Bill, of, Rights, ., The...\n",
       "2      2  [We, observe, today, not, a, victory, of, part...\n",
       "3      3  [Four, score, and, seven, years, ago, ,, our, ...\n",
       "4      4  [THE, CONSTITUTION, OF, THE, UNITED, STATES, O...\n",
       "5      5  [No, man, thinks, more, highly, than, I, do, o...\n",
       "6      6  [In, the, name, of, God, ,, Amen, ., We, ,, wh...\n",
       "7      7  [Fellow, countrymen, :, At, this, second, appe...\n",
       "8      8  [Fellow, citizens, of, the, United, States, :,..."
      ]
     },
     "execution_count": 16,
     "metadata": {},
     "output_type": "execute_result"
    }
   ],
   "source": [
    "corpus"
   ]
  },
  {
   "cell_type": "markdown",
   "metadata": {
    "id": "3NEi-RCC7DVh"
   },
   "source": [
    "## Lemmatize the tokens"
   ]
  },
  {
   "cell_type": "code",
   "execution_count": 17,
   "metadata": {
    "tags": []
   },
   "outputs": [],
   "source": [
    "#imports\n",
    "from nltk.stem.porter import *\n",
    "#initialize stemmer\n",
    "stemmer = PorterStemmer()\n",
    "#for each text stem every word\n",
    "for i in range(len(corpus)):\n",
    "    text = corpus['text'][i]\n",
    "    corpus['text'][i] = [stemmer.stem(token) for token in text]"
   ]
  },
  {
   "cell_type": "code",
   "execution_count": 18,
   "metadata": {
    "tags": []
   },
   "outputs": [
    {
     "data": {
      "text/html": [
       "<div>\n",
       "<style scoped>\n",
       "    .dataframe tbody tr th:only-of-type {\n",
       "        vertical-align: middle;\n",
       "    }\n",
       "\n",
       "    .dataframe tbody tr th {\n",
       "        vertical-align: top;\n",
       "    }\n",
       "\n",
       "    .dataframe thead th {\n",
       "        text-align: right;\n",
       "    }\n",
       "</style>\n",
       "<table border=\"1\" class=\"dataframe\">\n",
       "  <thead>\n",
       "    <tr style=\"text-align: right;\">\n",
       "      <th></th>\n",
       "      <th>docID</th>\n",
       "      <th>text</th>\n",
       "    </tr>\n",
       "  </thead>\n",
       "  <tbody>\n",
       "    <tr>\n",
       "      <th>0</th>\n",
       "      <td>0</td>\n",
       "      <td>[the, project, gutenberg, etext, of, the, decl...</td>\n",
       "    </tr>\n",
       "    <tr>\n",
       "      <th>1</th>\n",
       "      <td>1</td>\n",
       "      <td>[the, unit, state, bill, of, right, ., the, te...</td>\n",
       "    </tr>\n",
       "    <tr>\n",
       "      <th>2</th>\n",
       "      <td>2</td>\n",
       "      <td>[we, observ, today, not, a, victori, of, parti...</td>\n",
       "    </tr>\n",
       "    <tr>\n",
       "      <th>3</th>\n",
       "      <td>3</td>\n",
       "      <td>[four, score, and, seven, year, ago, ,, our, f...</td>\n",
       "    </tr>\n",
       "    <tr>\n",
       "      <th>4</th>\n",
       "      <td>4</td>\n",
       "      <td>[the, constitut, of, the, unit, state, of, ame...</td>\n",
       "    </tr>\n",
       "    <tr>\n",
       "      <th>5</th>\n",
       "      <td>5</td>\n",
       "      <td>[no, man, think, more, highli, than, i, do, of...</td>\n",
       "    </tr>\n",
       "    <tr>\n",
       "      <th>6</th>\n",
       "      <td>6</td>\n",
       "      <td>[in, the, name, of, god, ,, amen, ., we, ,, wh...</td>\n",
       "    </tr>\n",
       "    <tr>\n",
       "      <th>7</th>\n",
       "      <td>7</td>\n",
       "      <td>[fellow, countrymen, :, at, thi, second, appea...</td>\n",
       "    </tr>\n",
       "    <tr>\n",
       "      <th>8</th>\n",
       "      <td>8</td>\n",
       "      <td>[fellow, citizen, of, the, unit, state, :, in,...</td>\n",
       "    </tr>\n",
       "  </tbody>\n",
       "</table>\n",
       "</div>"
      ],
      "text/plain": [
       "   docID                                               text\n",
       "0      0  [the, project, gutenberg, etext, of, the, decl...\n",
       "1      1  [the, unit, state, bill, of, right, ., the, te...\n",
       "2      2  [we, observ, today, not, a, victori, of, parti...\n",
       "3      3  [four, score, and, seven, year, ago, ,, our, f...\n",
       "4      4  [the, constitut, of, the, unit, state, of, ame...\n",
       "5      5  [no, man, think, more, highli, than, i, do, of...\n",
       "6      6  [in, the, name, of, god, ,, amen, ., we, ,, wh...\n",
       "7      7  [fellow, countrymen, :, at, thi, second, appea...\n",
       "8      8  [fellow, citizen, of, the, unit, state, :, in,..."
      ]
     },
     "execution_count": 18,
     "metadata": {},
     "output_type": "execute_result"
    }
   ],
   "source": [
    "corpus"
   ]
  },
  {
   "cell_type": "markdown",
   "metadata": {
    "id": "LXLfkQ_S7DVi"
   },
   "source": [
    "## Remove stop words\n",
    "\n",
    "You can use the `nltk` library to remove stop words. You can also use the `nltk` library to remove stopwords."
   ]
  },
  {
   "cell_type": "code",
   "execution_count": 19,
   "metadata": {
    "id": "1-IoQXIR7DVj",
    "tags": []
   },
   "outputs": [],
   "source": [
    "## Your code here\n",
    "#imports\n",
    "from nltk.corpus import stopwords\n",
    "stop_words = stopwords.words('english')"
   ]
  },
  {
   "cell_type": "code",
   "execution_count": 20,
   "metadata": {
    "tags": []
   },
   "outputs": [],
   "source": [
    "#for each text\n",
    "for i in range(len(corpus)):\n",
    "    lemmas = [] #initialize a list\n",
    "    for lemma in corpus['text'][i]:\n",
    "        if lemma in stop_words: #if it is a stop word\n",
    "            continue #don't append\n",
    "        else: #if its not\n",
    "            lemmas.append(lemma) #do append\n",
    "    corpus['text'][i] = lemmas#after seeing all the words insert into df"
   ]
  },
  {
   "cell_type": "code",
   "execution_count": 21,
   "metadata": {
    "tags": []
   },
   "outputs": [
    {
     "data": {
      "text/html": [
       "<div>\n",
       "<style scoped>\n",
       "    .dataframe tbody tr th:only-of-type {\n",
       "        vertical-align: middle;\n",
       "    }\n",
       "\n",
       "    .dataframe tbody tr th {\n",
       "        vertical-align: top;\n",
       "    }\n",
       "\n",
       "    .dataframe thead th {\n",
       "        text-align: right;\n",
       "    }\n",
       "</style>\n",
       "<table border=\"1\" class=\"dataframe\">\n",
       "  <thead>\n",
       "    <tr style=\"text-align: right;\">\n",
       "      <th></th>\n",
       "      <th>docID</th>\n",
       "      <th>text</th>\n",
       "    </tr>\n",
       "  </thead>\n",
       "  <tbody>\n",
       "    <tr>\n",
       "      <th>0</th>\n",
       "      <td>0</td>\n",
       "      <td>[project, gutenberg, etext, declar, independ, ...</td>\n",
       "    </tr>\n",
       "    <tr>\n",
       "      <th>1</th>\n",
       "      <td>1</td>\n",
       "      <td>[unit, state, bill, right, ., ten, origin, ame...</td>\n",
       "    </tr>\n",
       "    <tr>\n",
       "      <th>2</th>\n",
       "      <td>2</td>\n",
       "      <td>[observ, today, victori, parti, celebr, freedo...</td>\n",
       "    </tr>\n",
       "    <tr>\n",
       "      <th>3</th>\n",
       "      <td>3</td>\n",
       "      <td>[four, score, seven, year, ago, ,, father, bro...</td>\n",
       "    </tr>\n",
       "    <tr>\n",
       "      <th>4</th>\n",
       "      <td>4</td>\n",
       "      <td>[constitut, unit, state, america, ,, 1787, peo...</td>\n",
       "    </tr>\n",
       "    <tr>\n",
       "      <th>5</th>\n",
       "      <td>5</td>\n",
       "      <td>[man, think, highli, patriot, ,, well, abil, ,...</td>\n",
       "    </tr>\n",
       "    <tr>\n",
       "      <th>6</th>\n",
       "      <td>6</td>\n",
       "      <td>[name, god, ,, amen, ., ,, whose, name, underw...</td>\n",
       "    </tr>\n",
       "    <tr>\n",
       "      <th>7</th>\n",
       "      <td>7</td>\n",
       "      <td>[fellow, countrymen, :, thi, second, appear, t...</td>\n",
       "    </tr>\n",
       "    <tr>\n",
       "      <th>8</th>\n",
       "      <td>8</td>\n",
       "      <td>[fellow, citizen, unit, state, :, complianc, c...</td>\n",
       "    </tr>\n",
       "  </tbody>\n",
       "</table>\n",
       "</div>"
      ],
      "text/plain": [
       "   docID                                               text\n",
       "0      0  [project, gutenberg, etext, declar, independ, ...\n",
       "1      1  [unit, state, bill, right, ., ten, origin, ame...\n",
       "2      2  [observ, today, victori, parti, celebr, freedo...\n",
       "3      3  [four, score, seven, year, ago, ,, father, bro...\n",
       "4      4  [constitut, unit, state, america, ,, 1787, peo...\n",
       "5      5  [man, think, highli, patriot, ,, well, abil, ,...\n",
       "6      6  [name, god, ,, amen, ., ,, whose, name, underw...\n",
       "7      7  [fellow, countrymen, :, thi, second, appear, t...\n",
       "8      8  [fellow, citizen, unit, state, :, complianc, c..."
      ]
     },
     "execution_count": 21,
     "metadata": {},
     "output_type": "execute_result"
    }
   ],
   "source": [
    "corpus"
   ]
  },
  {
   "cell_type": "markdown",
   "metadata": {
    "id": "Drr3OLl67DVj"
   },
   "source": [
    "## Remove punctuation"
   ]
  },
  {
   "cell_type": "code",
   "execution_count": 23,
   "metadata": {
    "id": "ng2qyG7-7DVk",
    "tags": []
   },
   "outputs": [],
   "source": [
    "## Your code here\n",
    "import string\n",
    "punct = list(string.punctuation) + list(string.digits) #get punctuation\n",
    "#do the same thing as above but check to see if it is in punct instead of a stopword\n",
    "for i in range(len(corpus)): \n",
    "    lemmas = []\n",
    "    for lemma in corpus['text'][i]:\n",
    "        if lemma in punct:\n",
    "            continue\n",
    "        else:\n",
    "            lemmas.append(lemma)\n",
    "    corpus['text'][i] = lemmas"
   ]
  },
  {
   "cell_type": "code",
   "execution_count": null,
   "metadata": {
    "tags": []
   },
   "outputs": [],
   "source": []
  },
  {
   "cell_type": "markdown",
   "metadata": {
    "id": "0nUuFOEI7DVk"
   },
   "source": [
    "## Analyze the documents and corpus using TF-IDF"
   ]
  },
  {
   "cell_type": "code",
   "execution_count": 29,
   "metadata": {
    "id": "yHYbaHdg7DVl",
    "tags": []
   },
   "outputs": [
    {
     "data": {
      "text/html": [
       "<div>\n",
       "<style scoped>\n",
       "    .dataframe tbody tr th:only-of-type {\n",
       "        vertical-align: middle;\n",
       "    }\n",
       "\n",
       "    .dataframe tbody tr th {\n",
       "        vertical-align: top;\n",
       "    }\n",
       "\n",
       "    .dataframe thead th {\n",
       "        text-align: right;\n",
       "    }\n",
       "</style>\n",
       "<table border=\"1\" class=\"dataframe\">\n",
       "  <thead>\n",
       "    <tr style=\"text-align: right;\">\n",
       "      <th></th>\n",
       "      <th>docID</th>\n",
       "      <th>term</th>\n",
       "      <th>term_frequency</th>\n",
       "    </tr>\n",
       "  </thead>\n",
       "  <tbody>\n",
       "    <tr>\n",
       "      <th>0</th>\n",
       "      <td>0</td>\n",
       "      <td>''</td>\n",
       "      <td>4</td>\n",
       "    </tr>\n",
       "    <tr>\n",
       "      <th>1</th>\n",
       "      <td>0</td>\n",
       "      <td>'s</td>\n",
       "      <td>2</td>\n",
       "    </tr>\n",
       "    <tr>\n",
       "      <th>2</th>\n",
       "      <td>0</td>\n",
       "      <td>--</td>\n",
       "      <td>3</td>\n",
       "    </tr>\n",
       "    <tr>\n",
       "      <th>3</th>\n",
       "      <td>0</td>\n",
       "      <td>1-2</td>\n",
       "      <td>2</td>\n",
       "    </tr>\n",
       "    <tr>\n",
       "      <th>4</th>\n",
       "      <td>0</td>\n",
       "      <td>10,000</td>\n",
       "      <td>1</td>\n",
       "    </tr>\n",
       "    <tr>\n",
       "      <th>...</th>\n",
       "      <td>...</td>\n",
       "      <td>...</td>\n",
       "      <td>...</td>\n",
       "    </tr>\n",
       "    <tr>\n",
       "      <th>3819</th>\n",
       "      <td>8</td>\n",
       "      <td>written</td>\n",
       "      <td>5</td>\n",
       "    </tr>\n",
       "    <tr>\n",
       "      <th>3820</th>\n",
       "      <td>8</td>\n",
       "      <td>wrong</td>\n",
       "      <td>1</td>\n",
       "    </tr>\n",
       "    <tr>\n",
       "      <th>3821</th>\n",
       "      <td>8</td>\n",
       "      <td>year</td>\n",
       "      <td>4</td>\n",
       "    </tr>\n",
       "    <tr>\n",
       "      <th>3822</th>\n",
       "      <td>8</td>\n",
       "      <td>yet</td>\n",
       "      <td>3</td>\n",
       "    </tr>\n",
       "    <tr>\n",
       "      <th>3823</th>\n",
       "      <td>8</td>\n",
       "      <td>yourselv</td>\n",
       "      <td>1</td>\n",
       "    </tr>\n",
       "  </tbody>\n",
       "</table>\n",
       "<p>3824 rows × 3 columns</p>\n",
       "</div>"
      ],
      "text/plain": [
       "      docID      term  term_frequency\n",
       "0         0        ''               4\n",
       "1         0        's               2\n",
       "2         0        --               3\n",
       "3         0       1-2               2\n",
       "4         0    10,000               1\n",
       "...     ...       ...             ...\n",
       "3819      8   written               5\n",
       "3820      8     wrong               1\n",
       "3821      8      year               4\n",
       "3822      8       yet               3\n",
       "3823      8  yourselv               1\n",
       "\n",
       "[3824 rows x 3 columns]"
      ]
     },
     "execution_count": 29,
     "metadata": {},
     "output_type": "execute_result"
    }
   ],
   "source": [
    "## Your code here\n",
    "#each row for a token per docid\n",
    "corpus_tokens = (corpus\n",
    "                  .explode('text'))\n",
    "term_frequency = (corpus_tokens\n",
    "                  .groupby(by=['docID', 'text'])\n",
    "                  .agg({'text': 'count'})\n",
    "                  .rename(columns={'text': 'term_frequency'})\n",
    "                  .reset_index()\n",
    "                  .rename(columns={'text': 'term'})\n",
    "                 )\n",
    "term_frequency"
   ]
  },
  {
   "cell_type": "markdown",
   "metadata": {},
   "source": [
    "It doesn't look like all the punctuation and digits have been captured which is annoying. It doesn't look like it is capturing possesives or combinations of digits."
   ]
  },
  {
   "cell_type": "code",
   "execution_count": 35,
   "metadata": {
    "tags": []
   },
   "outputs": [
    {
     "data": {
      "text/html": [
       "<div>\n",
       "<style scoped>\n",
       "    .dataframe tbody tr th:only-of-type {\n",
       "        vertical-align: middle;\n",
       "    }\n",
       "\n",
       "    .dataframe tbody tr th {\n",
       "        vertical-align: top;\n",
       "    }\n",
       "\n",
       "    .dataframe thead th {\n",
       "        text-align: right;\n",
       "    }\n",
       "</style>\n",
       "<table border=\"1\" class=\"dataframe\">\n",
       "  <thead>\n",
       "    <tr style=\"text-align: right;\">\n",
       "      <th></th>\n",
       "      <th>term</th>\n",
       "      <th>document_frequency</th>\n",
       "    </tr>\n",
       "  </thead>\n",
       "  <tbody>\n",
       "    <tr>\n",
       "      <th>0</th>\n",
       "      <td>''</td>\n",
       "      <td>5.0</td>\n",
       "    </tr>\n",
       "    <tr>\n",
       "      <th>1</th>\n",
       "      <td>'d</td>\n",
       "      <td>1.0</td>\n",
       "    </tr>\n",
       "    <tr>\n",
       "      <th>2</th>\n",
       "      <td>'s</td>\n",
       "      <td>5.0</td>\n",
       "    </tr>\n",
       "    <tr>\n",
       "      <th>3</th>\n",
       "      <td>--</td>\n",
       "      <td>5.0</td>\n",
       "    </tr>\n",
       "    <tr>\n",
       "      <th>4</th>\n",
       "      <td>.a</td>\n",
       "      <td>1.0</td>\n",
       "    </tr>\n",
       "    <tr>\n",
       "      <th>...</th>\n",
       "      <td>...</td>\n",
       "      <td>...</td>\n",
       "    </tr>\n",
       "    <tr>\n",
       "      <th>2062</th>\n",
       "      <td>year</td>\n",
       "      <td>6.0</td>\n",
       "    </tr>\n",
       "    <tr>\n",
       "      <th>2063</th>\n",
       "      <td>yet</td>\n",
       "      <td>3.0</td>\n",
       "    </tr>\n",
       "    <tr>\n",
       "      <th>2064</th>\n",
       "      <td>york</td>\n",
       "      <td>1.0</td>\n",
       "    </tr>\n",
       "    <tr>\n",
       "      <th>2065</th>\n",
       "      <td>young</td>\n",
       "      <td>1.0</td>\n",
       "    </tr>\n",
       "    <tr>\n",
       "      <th>2066</th>\n",
       "      <td>yourselv</td>\n",
       "      <td>2.0</td>\n",
       "    </tr>\n",
       "  </tbody>\n",
       "</table>\n",
       "<p>2067 rows × 2 columns</p>\n",
       "</div>"
      ],
      "text/plain": [
       "          term  document_frequency\n",
       "0           ''                 5.0\n",
       "1           'd                 1.0\n",
       "2           's                 5.0\n",
       "3           --                 5.0\n",
       "4           .a                 1.0\n",
       "...        ...                 ...\n",
       "2062      year                 6.0\n",
       "2063       yet                 3.0\n",
       "2064      york                 1.0\n",
       "2065     young                 1.0\n",
       "2066  yourselv                 2.0\n",
       "\n",
       "[2067 rows x 2 columns]"
      ]
     },
     "execution_count": 35,
     "metadata": {},
     "output_type": "execute_result"
    }
   ],
   "source": [
    "#now get document frequency\n",
    "document_frequency = (term_frequency\n",
    "                      .groupby(['docID', 'term'])\n",
    "                      .size()\n",
    "                      .unstack()\n",
    "                      .sum()\n",
    "                      .reset_index()\n",
    "                      .rename(columns={0: 'document_frequency'}))\n",
    "document_frequency"
   ]
  },
  {
   "cell_type": "code",
   "execution_count": 42,
   "metadata": {
    "tags": []
   },
   "outputs": [
    {
     "data": {
      "text/html": [
       "<div>\n",
       "<style scoped>\n",
       "    .dataframe tbody tr th:only-of-type {\n",
       "        vertical-align: middle;\n",
       "    }\n",
       "\n",
       "    .dataframe tbody tr th {\n",
       "        vertical-align: top;\n",
       "    }\n",
       "\n",
       "    .dataframe thead th {\n",
       "        text-align: right;\n",
       "    }\n",
       "</style>\n",
       "<table border=\"1\" class=\"dataframe\">\n",
       "  <thead>\n",
       "    <tr style=\"text-align: right;\">\n",
       "      <th></th>\n",
       "      <th>docID</th>\n",
       "      <th>term</th>\n",
       "      <th>term_frequency</th>\n",
       "      <th>document_frequency</th>\n",
       "      <th>idf</th>\n",
       "    </tr>\n",
       "  </thead>\n",
       "  <tbody>\n",
       "    <tr>\n",
       "      <th>0</th>\n",
       "      <td>0</td>\n",
       "      <td>''</td>\n",
       "      <td>4</td>\n",
       "      <td>5.0</td>\n",
       "      <td>1.510826</td>\n",
       "    </tr>\n",
       "    <tr>\n",
       "      <th>1</th>\n",
       "      <td>2</td>\n",
       "      <td>''</td>\n",
       "      <td>1</td>\n",
       "      <td>5.0</td>\n",
       "      <td>1.510826</td>\n",
       "    </tr>\n",
       "    <tr>\n",
       "      <th>2</th>\n",
       "      <td>4</td>\n",
       "      <td>''</td>\n",
       "      <td>2</td>\n",
       "      <td>5.0</td>\n",
       "      <td>1.510826</td>\n",
       "    </tr>\n",
       "    <tr>\n",
       "      <th>3</th>\n",
       "      <td>7</td>\n",
       "      <td>''</td>\n",
       "      <td>2</td>\n",
       "      <td>5.0</td>\n",
       "      <td>1.510826</td>\n",
       "    </tr>\n",
       "    <tr>\n",
       "      <th>4</th>\n",
       "      <td>8</td>\n",
       "      <td>''</td>\n",
       "      <td>14</td>\n",
       "      <td>5.0</td>\n",
       "      <td>1.510826</td>\n",
       "    </tr>\n",
       "    <tr>\n",
       "      <th>...</th>\n",
       "      <td>...</td>\n",
       "      <td>...</td>\n",
       "      <td>...</td>\n",
       "      <td>...</td>\n",
       "      <td>...</td>\n",
       "    </tr>\n",
       "    <tr>\n",
       "      <th>3819</th>\n",
       "      <td>8</td>\n",
       "      <td>withal</td>\n",
       "      <td>1</td>\n",
       "      <td>1.0</td>\n",
       "      <td>2.609438</td>\n",
       "    </tr>\n",
       "    <tr>\n",
       "      <th>3820</th>\n",
       "      <td>8</td>\n",
       "      <td>withhold</td>\n",
       "      <td>1</td>\n",
       "      <td>1.0</td>\n",
       "      <td>2.609438</td>\n",
       "    </tr>\n",
       "    <tr>\n",
       "      <th>3821</th>\n",
       "      <td>8</td>\n",
       "      <td>wors</td>\n",
       "      <td>1</td>\n",
       "      <td>1.0</td>\n",
       "      <td>2.609438</td>\n",
       "    </tr>\n",
       "    <tr>\n",
       "      <th>3822</th>\n",
       "      <td>8</td>\n",
       "      <td>written</td>\n",
       "      <td>5</td>\n",
       "      <td>1.0</td>\n",
       "      <td>2.609438</td>\n",
       "    </tr>\n",
       "    <tr>\n",
       "      <th>3823</th>\n",
       "      <td>8</td>\n",
       "      <td>wrong</td>\n",
       "      <td>1</td>\n",
       "      <td>1.0</td>\n",
       "      <td>2.609438</td>\n",
       "    </tr>\n",
       "  </tbody>\n",
       "</table>\n",
       "<p>3824 rows × 5 columns</p>\n",
       "</div>"
      ],
      "text/plain": [
       "      docID      term  term_frequency  document_frequency       idf\n",
       "0         0        ''               4                 5.0  1.510826\n",
       "1         2        ''               1                 5.0  1.510826\n",
       "2         4        ''               2                 5.0  1.510826\n",
       "3         7        ''               2                 5.0  1.510826\n",
       "4         8        ''              14                 5.0  1.510826\n",
       "...     ...       ...             ...                 ...       ...\n",
       "3819      8    withal               1                 1.0  2.609438\n",
       "3820      8  withhold               1                 1.0  2.609438\n",
       "3821      8      wors               1                 1.0  2.609438\n",
       "3822      8   written               5                 1.0  2.609438\n",
       "3823      8     wrong               1                 1.0  2.609438\n",
       "\n",
       "[3824 rows x 5 columns]"
      ]
     },
     "execution_count": 42,
     "metadata": {},
     "output_type": "execute_result"
    }
   ],
   "source": [
    "#Count documents, merge tables, create idf \n",
    "import numpy as np\n",
    "documents_in_corpus = term_frequency['docID'].nunique()\n",
    "term_frequency = term_frequency.merge(document_frequency)\n",
    "term_frequency['idf'] = np.log((1 + documents_in_corpus) / (1 + term_frequency['document_frequency'])) + 1\n",
    "term_frequency"
   ]
  },
  {
   "cell_type": "code",
   "execution_count": 44,
   "metadata": {
    "tags": []
   },
   "outputs": [
    {
     "data": {
      "text/html": [
       "<div>\n",
       "<style scoped>\n",
       "    .dataframe tbody tr th:only-of-type {\n",
       "        vertical-align: middle;\n",
       "    }\n",
       "\n",
       "    .dataframe tbody tr th {\n",
       "        vertical-align: top;\n",
       "    }\n",
       "\n",
       "    .dataframe thead th {\n",
       "        text-align: right;\n",
       "    }\n",
       "</style>\n",
       "<table border=\"1\" class=\"dataframe\">\n",
       "  <thead>\n",
       "    <tr style=\"text-align: right;\">\n",
       "      <th></th>\n",
       "      <th>docID</th>\n",
       "      <th>term</th>\n",
       "      <th>term_frequency</th>\n",
       "      <th>document_frequency</th>\n",
       "      <th>idf</th>\n",
       "      <th>tfidf</th>\n",
       "    </tr>\n",
       "  </thead>\n",
       "  <tbody>\n",
       "    <tr>\n",
       "      <th>1392</th>\n",
       "      <td>4</td>\n",
       "      <td>shall</td>\n",
       "      <td>191</td>\n",
       "      <td>9.0</td>\n",
       "      <td>1.000000</td>\n",
       "      <td>191.000000</td>\n",
       "    </tr>\n",
       "    <tr>\n",
       "      <th>1419</th>\n",
       "      <td>4</td>\n",
       "      <td>state</td>\n",
       "      <td>132</td>\n",
       "      <td>5.0</td>\n",
       "      <td>1.510826</td>\n",
       "      <td>199.428982</td>\n",
       "    </tr>\n",
       "    <tr>\n",
       "      <th>1585</th>\n",
       "      <td>4</td>\n",
       "      <td>unit</td>\n",
       "      <td>55</td>\n",
       "      <td>5.0</td>\n",
       "      <td>1.510826</td>\n",
       "      <td>83.095409</td>\n",
       "    </tr>\n",
       "    <tr>\n",
       "      <th>110</th>\n",
       "      <td>4</td>\n",
       "      <td>ani</td>\n",
       "      <td>42</td>\n",
       "      <td>8.0</td>\n",
       "      <td>1.105361</td>\n",
       "      <td>46.425142</td>\n",
       "    </tr>\n",
       "    <tr>\n",
       "      <th>1420</th>\n",
       "      <td>8</td>\n",
       "      <td>state</td>\n",
       "      <td>39</td>\n",
       "      <td>5.0</td>\n",
       "      <td>1.510826</td>\n",
       "      <td>58.922199</td>\n",
       "    </tr>\n",
       "    <tr>\n",
       "      <th>...</th>\n",
       "      <td>...</td>\n",
       "      <td>...</td>\n",
       "      <td>...</td>\n",
       "      <td>...</td>\n",
       "      <td>...</td>\n",
       "      <td>...</td>\n",
       "    </tr>\n",
       "    <tr>\n",
       "      <th>2091</th>\n",
       "      <td>3</td>\n",
       "      <td>forth</td>\n",
       "      <td>1</td>\n",
       "      <td>5.0</td>\n",
       "      <td>1.510826</td>\n",
       "      <td>1.510826</td>\n",
       "    </tr>\n",
       "    <tr>\n",
       "      <th>2092</th>\n",
       "      <td>4</td>\n",
       "      <td>forth</td>\n",
       "      <td>1</td>\n",
       "      <td>5.0</td>\n",
       "      <td>1.510826</td>\n",
       "      <td>1.510826</td>\n",
       "    </tr>\n",
       "    <tr>\n",
       "      <th>2093</th>\n",
       "      <td>5</td>\n",
       "      <td>forth</td>\n",
       "      <td>1</td>\n",
       "      <td>5.0</td>\n",
       "      <td>1.510826</td>\n",
       "      <td>1.510826</td>\n",
       "    </tr>\n",
       "    <tr>\n",
       "      <th>2094</th>\n",
       "      <td>7</td>\n",
       "      <td>forth</td>\n",
       "      <td>1</td>\n",
       "      <td>5.0</td>\n",
       "      <td>1.510826</td>\n",
       "      <td>1.510826</td>\n",
       "    </tr>\n",
       "    <tr>\n",
       "      <th>3823</th>\n",
       "      <td>8</td>\n",
       "      <td>wrong</td>\n",
       "      <td>1</td>\n",
       "      <td>1.0</td>\n",
       "      <td>2.609438</td>\n",
       "      <td>2.609438</td>\n",
       "    </tr>\n",
       "  </tbody>\n",
       "</table>\n",
       "<p>3824 rows × 6 columns</p>\n",
       "</div>"
      ],
      "text/plain": [
       "      docID   term  term_frequency  document_frequency       idf       tfidf\n",
       "1392      4  shall             191                 9.0  1.000000  191.000000\n",
       "1419      4  state             132                 5.0  1.510826  199.428982\n",
       "1585      4   unit              55                 5.0  1.510826   83.095409\n",
       "110       4    ani              42                 8.0  1.105361   46.425142\n",
       "1420      8  state              39                 5.0  1.510826   58.922199\n",
       "...     ...    ...             ...                 ...       ...         ...\n",
       "2091      3  forth               1                 5.0  1.510826    1.510826\n",
       "2092      4  forth               1                 5.0  1.510826    1.510826\n",
       "2093      5  forth               1                 5.0  1.510826    1.510826\n",
       "2094      7  forth               1                 5.0  1.510826    1.510826\n",
       "3823      8  wrong               1                 1.0  2.609438    2.609438\n",
       "\n",
       "[3824 rows x 6 columns]"
      ]
     },
     "execution_count": 44,
     "metadata": {},
     "output_type": "execute_result"
    }
   ],
   "source": [
    "#create tf-idf\n",
    "term_frequency['tfidf'] = term_frequency['term_frequency'] * term_frequency['idf']\n",
    "term_frequency.sort_values(by=['term_frequency'], ascending=False)"
   ]
  },
  {
   "cell_type": "markdown",
   "metadata": {
    "id": "JGeUs55o7DVm"
   },
   "source": [
    "# Submission Instructions\n",
    "\n",
    "Please submit your assignment as a Jupyter Notebook or R Markdown file. You can submit your assignment as a link to a Google Colab notebook or a link to a GitHub repository. If you are submitting a link to a GitHub repository, please make sure that your repository is public. If you email the notebook to me, please zip the file before sending it."
   ]
  },
  {
   "cell_type": "markdown",
   "metadata": {
    "id": "42rlMWuA7DVm"
   },
   "source": []
  }
 ],
 "metadata": {
  "colab": {
   "provenance": []
  },
  "kernelspec": {
   "display_name": "Python 3 (ipykernel)",
   "language": "python",
   "name": "python3"
  },
  "language_info": {
   "codemirror_mode": {
    "name": "ipython",
    "version": 3
   },
   "file_extension": ".py",
   "mimetype": "text/x-python",
   "name": "python",
   "nbconvert_exporter": "python",
   "pygments_lexer": "ipython3",
   "version": "3.10.9"
  },
  "vscode": {
   "interpreter": {
    "hash": "7d99a3f87c484a74ba405ca572f7f1b4059e93a8c4d7f8027bf5ae12e7919d9c"
   }
  }
 },
 "nbformat": 4,
 "nbformat_minor": 4
}
