{
 "cells": [
  {
   "cell_type": "markdown",
   "metadata": {
    "id": "sFFOIPCs2P_M"
   },
   "source": [
    "# Word Embeddings (Word2Vec, Sent2Vec, and Doc2Vec)\n",
    "\n",
    "## Due date\n",
    "\n",
    "April 30, 2018\n",
    "\n",
    "## Assignment description\n",
    "\n",
    "In this assignment, you will implement a semantic search engine using the word2vec algorithm. You will use pre-trained word embeddings and build a search engine that can retrieve documents related to a given query based on semantic similarity.\n",
    "\n",
    "### Objective\n",
    "\n",
    "1. Familiarize yourself with the word2vec algorithm: Start by reading about the word2vec algorithm and its applications in NLP. You can use the resources provided in the course or search for additional materials online.\n",
    "\n",
    "2. Choose a pre-trained word embedding model: There are many pre-trained word embedding models available online, such as Google's Word2Vec, Stanford's GloVe, and Facebook's fastText. Choose one that you find suitable for your task and download it. See the lecture notebooks for links to code that can be used to load the models.\n",
    "\n",
    "3. Preprocess the data: Choose a dataset of documents that you want to use for your search engine. Use the news dataset that you performed Exploratory Data Analysis on the previous assignment.\n",
    "\n",
    "4. Map the documents to vectors: Use the pre-trained word embedding model to map the words in each document to vectors. You can do this by averaging the vectors of the individual words in each document or using a more sophisticated technique such as doc2vec.\n",
    "\n",
    "5. Implement the search engine: Given a query, map it to a vector using the same technique you used for the documents. Then, retrieve the documents that are most similar to the query vector based on cosine similarity or another distance metric.\n",
    "\n",
    "6. Write a brief summary of your algorithm and document it's usage with some examples.\n",
    "\n",
    "### Outcomes\n",
    "\n",
    "The student will be able to:\n",
    "\n",
    "1. Implement a semantic search engine using word embeddings.\n",
    "2. Use pre-trained word embedding models.\n",
    "3. Map documents to vectors using word embeddings.\n",
    "4. Discover how cosine similarity can be used to cluster documents.\n",
    "\n",
    "## Submission medium\n",
    "\n",
    "Well documented Jupyter notebook."
   ]
  },
  {
   "cell_type": "markdown",
   "metadata": {
    "id": "_9KGroLT2P_b"
   },
   "source": [
    "## Dataset\n",
    "\n",
    "The dataset used in this assignment is the same as the one used in the EDA assignment. That is, the input for this assignment is the output you created in the EDA assignment. You can download the preprocessed dataset from the following link:"
   ]
  },
  {
   "cell_type": "code",
   "execution_count": 1,
   "metadata": {
    "id": "80IS7jEv2P_d",
    "tags": []
   },
   "outputs": [],
   "source": [
    "import pandas as pd\n",
    "import numpy as np\n",
    "\n",
    "data_source = 'https://raw.githubusercontent.com/JamesMTucker/DATA_340_NLP/master/Notebooks/data/news-2023-02-01.csv'\n",
    "\n",
    "articles = pd.read_csv(data_source)"
   ]
  },
  {
   "cell_type": "markdown",
   "metadata": {
    "id": "El_CVaKt2P_h"
   },
   "source": [
    "### Dataset description"
   ]
  },
  {
   "cell_type": "code",
   "execution_count": 8,
   "metadata": {
    "id": "l6kdfaRb2P_i",
    "outputId": "6977e08e-c95b-4854-890a-bc362ee3ccb7",
    "tags": []
   },
   "outputs": [
    {
     "data": {
      "text/html": [
       "<div>\n",
       "<style scoped>\n",
       "    .dataframe tbody tr th:only-of-type {\n",
       "        vertical-align: middle;\n",
       "    }\n",
       "\n",
       "    .dataframe tbody tr th {\n",
       "        vertical-align: top;\n",
       "    }\n",
       "\n",
       "    .dataframe thead th {\n",
       "        text-align: right;\n",
       "    }\n",
       "</style>\n",
       "<table border=\"1\" class=\"dataframe\">\n",
       "  <thead>\n",
       "    <tr style=\"text-align: right;\">\n",
       "      <th></th>\n",
       "      <th>source</th>\n",
       "      <th>title</th>\n",
       "      <th>text</th>\n",
       "    </tr>\n",
       "  </thead>\n",
       "  <tbody>\n",
       "    <tr>\n",
       "      <th>0</th>\n",
       "      <td>politicususa</td>\n",
       "      <td>Prosecutors Pay Attention: Stormy Daniels Than...</td>\n",
       "      <td>Manhattan prosecutors are likely to notice tha...</td>\n",
       "    </tr>\n",
       "    <tr>\n",
       "      <th>1</th>\n",
       "      <td>politicususa</td>\n",
       "      <td>Investigators Push For Access To Trump Staff C...</td>\n",
       "      <td>Print\\nInvestigators looking into Donald Trump...</td>\n",
       "    </tr>\n",
       "    <tr>\n",
       "      <th>2</th>\n",
       "      <td>politicususa</td>\n",
       "      <td>The End Is Near For George Santos As He Steps ...</td>\n",
       "      <td>The AP reported:\\nRepublican Rep. George Santo...</td>\n",
       "    </tr>\n",
       "    <tr>\n",
       "      <th>3</th>\n",
       "      <td>politicususa</td>\n",
       "      <td>Rachel Maddow Cuts Trump To The Bone With Stor...</td>\n",
       "      <td>Rachel Maddow showed how Trump committed a cri...</td>\n",
       "    </tr>\n",
       "    <tr>\n",
       "      <th>4</th>\n",
       "      <td>vox</td>\n",
       "      <td>Alec Baldwin has been formally charged with in...</td>\n",
       "      <td>Candles are placed in front of a photo of cine...</td>\n",
       "    </tr>\n",
       "  </tbody>\n",
       "</table>\n",
       "</div>"
      ],
      "text/plain": [
       "         source                                              title  \\\n",
       "0  politicususa  Prosecutors Pay Attention: Stormy Daniels Than...   \n",
       "1  politicususa  Investigators Push For Access To Trump Staff C...   \n",
       "2  politicususa  The End Is Near For George Santos As He Steps ...   \n",
       "3  politicususa  Rachel Maddow Cuts Trump To The Bone With Stor...   \n",
       "4           vox  Alec Baldwin has been formally charged with in...   \n",
       "\n",
       "                                                text  \n",
       "0  Manhattan prosecutors are likely to notice tha...  \n",
       "1  Print\\nInvestigators looking into Donald Trump...  \n",
       "2  The AP reported:\\nRepublican Rep. George Santo...  \n",
       "3  Rachel Maddow showed how Trump committed a cri...  \n",
       "4  Candles are placed in front of a photo of cine...  "
      ]
     },
     "execution_count": 8,
     "metadata": {},
     "output_type": "execute_result"
    }
   ],
   "source": [
    "articles.head()"
   ]
  },
  {
   "cell_type": "markdown",
   "metadata": {
    "id": "Ky0PAesQ2P_l"
   },
   "source": [
    "## Preprocessing\n",
    "\n",
    "Clean, deduplicate, and tokenize the documents. You should be able to repurpose your code from the EDA assignment to do this."
   ]
  },
  {
   "cell_type": "code",
   "execution_count": 13,
   "metadata": {
    "tags": []
   },
   "outputs": [
    {
     "name": "stderr",
     "output_type": "stream",
     "text": [
      "/tmp/ipykernel_266/1040506739.py:2: SettingWithCopyWarning: \n",
      "A value is trying to be set on a copy of a slice from a DataFrame\n",
      "\n",
      "See the caveats in the documentation: https://pandas.pydata.org/pandas-docs/stable/user_guide/indexing.html#returning-a-view-versus-a-copy\n",
      "  df2.drop(index = 40, inplace = True)\n"
     ]
    }
   ],
   "source": [
    "df2 = articles[~np.array(articles.duplicated(subset = 'text',keep='first'))]\n",
    "df2.drop(index = 40, inplace = True)\n",
    "df2.reset_index(drop = True, inplace = True)\n"
   ]
  },
  {
   "cell_type": "code",
   "execution_count": 17,
   "metadata": {
    "tags": []
   },
   "outputs": [
    {
     "data": {
      "text/plain": [
       "0       Manhattan prosecutors are likely to notice tha...\n",
       "1       Print\\nInvestigators looking into Donald Trump...\n",
       "2       The AP reported:\\nRepublican Rep. George Santo...\n",
       "3       Rachel Maddow showed how Trump committed a cri...\n",
       "4       Candles are placed in front of a photo of cine...\n",
       "                              ...                        \n",
       "1057    White House bids farewell to Klain, as Zients ...\n",
       "1058    Lawmakers clash over allowing guns in Natural ...\n",
       "1059    Pizza Shop Employee Gets Rude Awakening After ...\n",
       "1060    President Joe Biden boards Air Force One at th...\n",
       "1061    Russian politicians and companies offer reward...\n",
       "Name: text, Length: 1062, dtype: object"
      ]
     },
     "execution_count": 17,
     "metadata": {},
     "output_type": "execute_result"
    }
   ],
   "source": []
  },
  {
   "cell_type": "code",
   "execution_count": 31,
   "metadata": {
    "id": "IN7HaPud2P_m",
    "tags": []
   },
   "outputs": [
    {
     "name": "stderr",
     "output_type": "stream",
     "text": [
      "/tmp/ipykernel_266/1682467849.py:8: SettingWithCopyWarning: \n",
      "A value is trying to be set on a copy of a slice from a DataFrame.\n",
      "Try using .loc[row_indexer,col_indexer] = value instead\n",
      "\n",
      "See the caveats in the documentation: https://pandas.pydata.org/pandas-docs/stable/user_guide/indexing.html#returning-a-view-versus-a-copy\n",
      "  df2['text'] = df2.apply(lambda x: clean_text(str(x['text'])), axis = 1)\n"
     ]
    }
   ],
   "source": [
    "## YOUR CODE HERE\n",
    "import re\n",
    "def clean_text(text):\n",
    "    text = text.lower()  # Convert to lowercase\n",
    "    text = re.sub(r\"<[^>]*>\", \"\", text)  # Remove HTML tags\n",
    "    text = re.sub(r\"[^a-z0-9]+\", \" \", text)  # Remove non-alphanumeric characters\n",
    "    return text.strip()\n",
    "df2['text'] = df2.apply(lambda x: clean_text(str(x['text'])), axis = 1)"
   ]
  },
  {
   "cell_type": "markdown",
   "metadata": {
    "id": "ZDX6Ybhy2P_n"
   },
   "source": [
    "## Word embeddings\n",
    "\n",
    "Load the pre-trained word embedding model. You can use the code provided in the lecture notebooks to load the model. Vectorize the documents using the pre-trained word embedding model. You can do this by averaging the vectors of the individual words in each document or using a more sophisticated technique such as doc2vec (see SpaCy and Gensim packages)."
   ]
  },
  {
   "cell_type": "code",
   "execution_count": 37,
   "metadata": {
    "id": "1WF-Hzem2P_p",
    "tags": []
   },
   "outputs": [],
   "source": [
    "## YOUR CODE HERE\n",
    "from gensim import corpora, models, similarities\n",
    "import gensim\n",
    "\n",
    "from gensim.test.utils import common_texts\n",
    "from gensim.models.doc2vec import Doc2Vec, TaggedDocument\n",
    "\n",
    "dictionary = corpora.Dictionary([review.split() for review in df2['text']]) #create dictionary\n",
    "corpus = [dictionary.doc2bow(review.split()) for review in df2['text']] #create corpus with bag of words vectors"
   ]
  },
  {
   "cell_type": "code",
   "execution_count": 41,
   "metadata": {
    "tags": []
   },
   "outputs": [],
   "source": [
    "tfidf = models.TfidfModel(corpus) #compute tfidf\n",
    "tfidf_corpus = tfidf[corpus]\n",
    "lsi = models.LsiModel(tfidf_corpus, id2word=dictionary)"
   ]
  },
  {
   "cell_type": "code",
   "execution_count": 42,
   "metadata": {
    "tags": []
   },
   "outputs": [],
   "source": [
    "lsi_corpus = lsi[tfidf_corpus]\n",
    "index_lsi = similarities.MatrixSimilarity(lsi_corpus) #this uses cosine similarities see here https://tedboy.github.io/nlps/generated/generated/gensim.similarities.MatrixSimilarity.html"
   ]
  },
  {
   "cell_type": "code",
   "execution_count": 47,
   "metadata": {
    "collapsed": true,
    "jupyter": {
     "outputs_hidden": true
    },
    "tags": []
   },
   "outputs": [
    {
     "data": {
      "text/plain": [
       "[('manhattan prosecutors are likely to notice that stormy daniels has publicly thanked trump for posting confirmation of her story about the illegal hush money payments daniels tweeted thanks for just admitting that i was telling the truth about everything guess i ll take my horse face back to bed now mr former president btw that s the correct way to use quotation marks pic twitter com vsg867kwk8 as the manhattan district attorney is presenting evidence in front of a criminal grand jury about hush money payments donald trump was on his social media platform confirming that the story is true trump is trying to claim that the whole illegal plot was michael cohen s fault and the use of the statement advice of counsel is a signal that he is going to be trying to throw lawyers under the bus donald trump always thinks he is his best pr person and legal counsel but every time he makes a public statement he digs the hole deeper trump is also his own worst enemy because if there were ever a time to shut up and not confirm the story of the person who received the illegal payment it would be when the district attorney is presenting evidence to a grand jury and weighing an indictment when people suggest that trump is the same or nothing has changed that does not appear to be accurate trump s impulses seem to have grown worse donald trump thinks that he is defending himself but he could be sowing the seeds for his conviction jason easley jason is the managing editor he is also a white house press pool and a congressional correspondent for politicususa jason has a bachelor s degree in political science his graduate work focused on public policy with a specialization in social reform movements awards and professional memberships',\n",
       "  1.0),\n",
       " ('rachel maddow showed how trump committed a crime then had everyone bend over backward to protect him from prosecution and the damage he has done to the doj and the rule of law video maddow said so this is a crime that was committed in 2016 the last time it was in court was in 2018 the last time someone went to jail for this crime was in 2019 federal prosecutors bobbled it and they simultaneously blocked state prosecutors from pursuing it themselves for a long time there was also a weird interlude where one manhattan d a one new york state prosecutor started an investigation into this matter and then a new prosecutor came into office and stopped that investigation and then the new prosecutor restarted it a few months later after some of the lawyers who had been working on trump related investigations quit in protest and did so loudly this has been a weird saga this has been an on again off again criminal case at its core it is a simple crime it is a very understandable crime one in which the evidence is really clear and for years now i mean we re going on seven years since the crime five years since people started going to prison for it for years people have been doing backflips to make sure there are no consequences for the guy who committed the crime and was the only one to benefit from it the purpose was to help donald trump s campaign for president he did become the president which apparently does give you carte blanche to stay out of handcuffs for four years while occupying the oval office but not after it doesn t last once you re out once you are out of the oval office you re supposed to go back to being the kind of person who isn t allowed to get caught committing crimes without having to pay it has taken alt of these years i am happy to say stormy daniels is doing fine she s doing better than fine we re about to find out if we can say the same about the rule of law and the justice system which they royally screwed up subscribe to our newsletter the case itself is not complicated it is fairly open and shut donald trump broke the law by paying stormy daniels hush money during the 2016 presidential campaign we know that donald trump is the man behind the crime donald trump benefitted from the crime but because he made it to the white house trump was able to use the power of the presidency to cover up his crime and block investigations electing joe biden president did not fix the rule of law and the department of justice the doj may never be the same again precedents have been set that another corrupt future president could easily follow the best way to reestablish the rule of law in the united states is to criminally charge donald j trump jason easley jason is the managing editor he is also a white house press pool and a congressional correspondent for politicususa jason has a bachelor s degree in political science his graduate work focused on public policy with a specialization in social reform movements awards and professional memberships',\n",
       "  0.78586006),\n",
       " ('msnbc s nicolle wallace played a round up of investigators and prosecutors saying that beyond a reasonable doubt trump committed crimes video nicolledwallace plays a round up of prosecutors and investigators saying that beyond a reasonable doubt trump committed crimes pic twitter com 3nvcqtm9fd sarah reese jones politicussarah january 31 2023 wallace said let me pull back the curtain for a minute and talk about why we re starting here in a normal moment the extraordinary to hear a former president take the fifth amendment which is his right his privilege against incriminating himself it s a story we weren t positive that was even the top story today but i want to play this for all of you this is people not like me former political actors or people in the news these are lifelong prosecutors people who run investigations into trump saying that beyond a reasonable person s assessment and based on our investigation he committed crimes nicolle wallace then asked andrew weissmann why if there is so much evidence against trump nothing ever happens to him weissmann answered i mean so look there has been such a long period where it appears that donald trump is circling the drain but everyone has heard that over and over again and they re not seeing accountability now when he was president it is important to know he could not under department of justice guidelines be prosecuted that didn t however prevent either manhattan or georgia at the state level from bringing a case and you do see signs of life particularly in georgia that they are pursuing it now that he is no longer the president i do think that you re seeing a whole series of ways that he is being held to account it matters that there is video of trump taking the fifth hundreds of times because there is ample evidence elsewhere that donald trump committed crimes in hindsight donald trump was saved from prosecution for years by being in the white house and before he became president trump never had national scrutiny on his business dealings and behavior the video released by ag james shows trump looking weak and it could be the final blow that wrecks his self made myth jason easley jason is the managing editor he is also a white house press pool and a congressional correspondent for politicususa jason has a bachelor s degree in political science his graduate work focused on public policy with a specialization in social reform movements awards and professional memberships',\n",
       "  0.73397374),\n",
       " ('president donald trump greets people at a new year event at his mar a lago home on december 31 2022 in palm beach florida joe raedle getty images andrew prokop is a senior politics correspondent at vox covering the white house elections and political scandals and investigations he s worked at vox since the site s launch in 2014 and before that he worked as a research assistant at the new yorker s washington dc bureau amid the many investigations of former president donald trump that are going on right now a new or rather an old one has gained some unexpected momentum this week the new york district attorney s office began presenting evidence to a grand jury about whether trump violated the law in connection with a 130 000 hush money payment to stormy daniels the new york times reports you may be thinking stormy daniels that s a name i ve not heard in a long time indeed the world first learned of daniels in 2018 when the wall street journal broke news that trump organization lawyer michael cohen had arranged the payment made shortly before the 2016 election so the adult film actress wouldn t go public with her claim to have had an affair with trump cohen already under investigators scrutiny eventually pleaded guilty in august 2018 to violating federal campaign finance laws with that payment and others in charging documents that famously identified trump as individual 1 cohen claimed he d made the illegal payment at trump s direction so there was much speculation about whether trump was on the hook for violating campaign finance law too but instead the case fizzled out a federal investigation was closed in 2019 and the new york district attorney s office looked into it but seemed to lose interest in favor of pursuing a sprawling probe of trump s business dealings so why is it back now in 2023 only manhattan district attorney alvin bragg truly knows the answer to that but some context is that when bragg first took office early last year he put the brakes on the trump business probe a decision that spurred two prosecutors to resign and was intensely criticized amid this backlash and intensifying legal jeopardy for trump federally and in the state of georgia bragg appears to have rethought his earlier hesitancy and he s now embraced what the times reports had become known in his office as the zombie theory of pursuing charges based on the hush money but whether these possible charges if filed will prove strong enough to survive court scrutiny is far from clear it s been a while what was the hush money scandal about again stormy daniels attends an event on may 11 2022 in los angeles california phillip faraone getty images in october 2016 weeks before the presidential election as trump was being publicly besieged by a series of sexual harassment or assault accusations from many different women adult film actress stormy daniels was preparing to come forward with her own story about a consensual sexual encounter she d had with trump in 2006 but her representatives let it be known she d also be willing to accept payment for her silence earlier in the campaign cohen had worked with american media inc the parent company of the national enquirer to catch and kill unflattering stories about trump in which ami would pay accusers for the exclusive rights to their story and then not publish those stories ami executives were involved in the discussions about paying daniels too but they ultimately balked so cohen had to take care of it himself cohen set up a shell company essential consultants and sent 130 000 to daniels s lawyer on october 27 later after trump won the election he paid cohen back in installments in 2017 the problem federal prosecutors in the southern district of new york later alleged was that this violated campaign finance law they argued that since that this money was spent to help trump win the election it should have been disclosed as campaign spending and subject to legal limits on donations cohen pleaded guilty to this charge as part of a larger plea deal so the case was never tested in front of a jury yet prosecutors theory wasn t universally accepted the new york times described it as a somewhat novel use of campaign finance law and attorney general bill barr sharply questioned it after he took office in any case sdny prosecutors told a judge in july 2019 the case was closed in part because trump was the sitting president and per justice department policy he could not be indicted as trump was about to leave office in 2021 though sdny prosecutors revisited the case discussing whether they should reopen it when he no longer had presidential immunity according to cnn legal analyst elie honig s recent book untouchable prosecutors were split on the strength of the case some believed the evidence was more than enough to charge in an ordinary case while others thought it was still a close call though still chargeable honig writes continuing even if the evidence was sufficient to support a charge it also wasn t a slam dunk case in the majority view he adds that some on the team believed the hush money scheme was serious but not the end of the world and that it seemed somehow trivial and outdated compared to his later acts like trying to overturn joe biden s election win so ultimately sdny decided to let it lie so how did this move to the manhattan district attorney manhattan district attorney alvin bragg arrives to the courtroom during the trump organization tax fraud trial at the new york supreme court on december 6 2022 in new york city michael m santiago getty images after news became public that sdny had dropped the hush money case in 2019 then manhattan district attorney cy vance picked it up bringing cohen in for interviews and seeking trump s tax returns but the investigation soon sprawled outward first there was the real estate valuations case vance s prosecutors developed a theory backed by public evidence and cohen s testimony that trump overvalued certain properties when he sought loans and insurance policies but undervalued those assets for tax purposes so he d owe less in property taxes they explored charges over tax fraud bank fraud and insurance fraud but the problem was proving trump knew his company was breaking the law since he could have argued that everything his company did was approved by his chief financial officer and legal team who were experts in such matters so prosecutors zeroed in on that cfo allen weisselberg pressuring him for months to flip on trump weisselberg did not do so so next came the fringe benefits case in july 2021 vance s office charged weisselberg and several trump business entities with tax fraud the company had paid apartment and car leases for weisselberg and private school tuition for his grandchildren without subjecting it to taxes trump himself was not charged and the maximum penalties for trump s company were relatively small so this wasn t all that threatening a case with that trial pending vance left office and bragg the newly elected district attorney inherited the trump probes in early 2022 after being briefed on the real estate valuations case he reportedly wasn t impressed per the new york times bragg told the two lead prosecutors that he had doubts about moving forward with the case and paused grand jury activity those two lead prosecutors resigned in february and one mark pomerantz has a book coming out next week giving his account of what happened bragg elected as a criminal justice reformer then faced intense criticism in the media and from democrats for being too lenient toward trump he said little at first but by april he said the real estate valuations case was still moving forward the fringe benefits case meanwhile was still heading for trial and in august weisselberg agreed to change his plea to guilty though he still didn t flip on trump and was sentenced to five months in jail trump s businesses were then convicted at the trial and sentenced to pay a 1 6 million fine and at some point last year bragg s office turned back to where the manhattan da s investigation all started the hush money it recently convened a grand jury to hear evidence and brought in cohen for yet another round of talks we don t know why exactly they have returned to the hush money and we also don t know how strong the case is importantly the da can only charge violations of new york state law so federal campaign finance charges aren t relevant here according to new york times reporters william rashbaum ben protess jonah bromwich and hurubie meko though prosecutors have a theory about how to charge it the key is that when trump paid cohen back for the hush money he classified it as legal fees prosecutors want to argue that that amounted to illegal falsification of business records but since that would only be a misdemeanor and hardly worth charging they also want to argue this was done in violation of new york state election law which makes it a felony that second aspect has largely gone untested and would therefore make for a risky legal case against any defendant let alone the former president the times reporters write this seems to pose the possibility that the hush money case is a bit of a reach a zombie legal theory being resurrected now that bragg has seemingly realized he ll benefit more politically from being seen as trying to take trump down though we can t say for sure without understanding more about his evidence and legal reasoning will you support vox s explanatory journalism millions turn to vox to educate themselves their family and their friends about what s happening in the world around them and to learn about things that spark their curiosity financial contributions from our readers are a critical part of supporting our resource intensive work and help us keep our journalism free for all please consider making a one time contribution to vox today one time',\n",
       "  0.70243466),\n",
       " ('top trump organization executive to appear before grand jury the manhattan da is investigating a payment made by trump to stormy daniels february 1 2023 1 45 pm 0 26 trump organization senior vice president and controller jeffrey mcconney returns to the courthouse after a break in the company s trial on nov 1 2022 in new york seth wenig ap file the trump organization s controller is expected to testify thursday before a grand jury in new york that is investigating whether former president donald trump played a role in the hush payment to adult film actress stormy daniels ahead of the 2016 presidential election sources familiar with the matter told abc news jeffrey mcconney has worked at the trump organization for more than three decades and was a subordinate to its former chief financial officer allen weisselberg who is now serving jail time after he pleaded guilty to tax fraud mcconney appeared more than a half dozen times before a grand jury about illegal practices at the trump organization and he testified at the company s trial late last year that resulted in a conviction on charges it paid certain executives as independent contractors and through under the table perks former president donald trump speaks during the new hampshire republican state committee 2023 annual meeting jan 28 2023 in salem n h reba saldanha ap mcconney is expected to appear before the new grand jury convened to hear evidence by the manhattan district attorney s office about the payment to daniels meant to keep quiet about her long denied affair with trump the sources said a spokeswoman for the district attorney s office declined to comment an attorney for mcconney also declined to comment more former national enquirer publisher appears before donald trump grand jury mcconney s anticipated grand jury appearance was first reported by cnn the former publisher of the national enquirer david pecker appeared before the grand jury earlier this week the sources said pecker helped broker a 150 000 payment to daniels according to federal prosecutors who previously investigated the arrangement and reached a non prosecution agreement with pecker s employer ami trump organization senior vice president and controller jeffrey mcconney returns to the courthouse after a break in the company s trial on nov 1 2022 in new york seth wenig ap file pecker interviewed daniels about her alleged affair in june 2016 and agreed to acquire the story for the purposes of burying it a practice known in the tabloid industry as catch and kill prosecutors believe the payment violated campaign finance laws governing expenditures made for purposes of influencing an election and in coordination with a candidate or his campaign trump has denied knowing about the payment that was arranged through his former personal attorney michael cohen the manhattan district attorney s office is investigating whether the trump organization falsified business records in the way it recorded a reimbursement payment to cohen sources familiar with the investigation have told abc news related topics',\n",
       "  0.65920746),\n",
       " ('email associated press seth wenig a trump organization executive is expected to testify before a grand jury in manhattan that is investigating former president trump s role in hush money payments paid to adult film star stormy daniels right before the 2016 election cnn reported jeffrey mcconney the controller of the trump organization is expected to appear before the grand jury as manhattan district attorney ramps up his criminal investigation into trump the new york times reported that district attorney alvin bragg d is escalating the investigation through giving the grand jury evidence about hush money paid to daniels in 2016 bragg spokeswoman danielle filson declined to comment on or confirm whether mcconney will appear according to the times bragg is also seeking to interview former employees of the national enquirer which helped make the deal with daniels david pecker the former publisher of the national enquirer was seen with his lawyer walking into the building that the grand jury is in the times reported these new developments in the manhattan prosecutors investigation come after the trump organization was found guilty of tax fraud in december testimonies from mcconney and former chief financial officer allen weisselberg who pleaded guilty to tax evasion as part of a deal with prosecutors in august helped the prosecutors back up the case that led to the conviction judge blocks nj law allowing state to sue gun industry gop led states call on court to shut down daca shortly after the conviction in december bragg reiterated that the investigation was ongoing and that the case was one chapter in the book for his team s investigation trump s former attorney michael cohen said on wednesday that he turned over his cellphones to the manhattan prosecutors that included text messages emails and voice messages he exchanged with keith davidson former attorney to daniels he said the contents will help serve as evidence if the prosecutors move forward in the case which he suspected they will cohen pleaded guilty to eight charges in 2018 including one count of making an excessive campaign contribution on oct 27 2016 the same date that cohen paid daniels in a nondisclosure agreement over an affair daniels alleges she had with trump trump denies that the affair happened',\n",
       "  0.6577865),\n",
       " ('cohen says he turned over cellphones to manhattan prosecutors investigating trump hush money payments by lauren sforza 02 01 23 12 01 pm et email file in this march 6 2019 file photo michael cohen returns to testify on capitol hill in washington the former trump lawyer is working with the manhattan da to look into hush payments the former president made to stormy daniels ap photo j scott applewhite file former trump attorney michael cohen on wednesday revealed that he recently turned over his cellphones to manhattan prosecutors who are investigating hush money payments paid to adult film star stormy daniels ahead of the 2016 elections most recently they asked for my cellphones because they want to be able to extract from it the voice recordings that i had had with keith davidson former attorney to stormy daniels before michael avenatti as well as a bunch of emails text messages and so on cohen told don lemon on cnn s this morning the phones which were previously taken by federal investigators in 2018 are new to the district attorney cohen said he noted that his cellphone can serve as evidence if the investigation is moved forward which he suspects will happen cohen pleaded guilty in 2018 to eight charges including bank fraud tax fraud and campaign finance violations this also included one count of making an excessive campaign contribution on oct 27 2016 the same date that cohen paid daniels in a nondisclosure agreement over an affair daniels says she had with former president trump the new york times reported that the manhattan district attorney alvin bragg d is escalating his criminal investigation into trump by showing evidence of hush money payments to daniels to a grand jury the times added that showing evidence demonstrates that bragg is closer to making a decision for or against formally charging trump with criminal charges matt schlapp accuser files second lawsuit sharpton says tyre nichols funeral will be about justice not politics when shown the newly released video of trump pleading the fifth more than 400 times in a deposition he gave in august cohen said that trump could not keep track of the lies he tells i mean donald cannot keep track of the lies that he tells he said and so what better way than to stop a fool from being deposed and hurting himself further than to come to plead the fifth at least 400 times trump is also facing other legal challenges including questions into actions he may have taken in georgia s 2020 election and an investigation into his handling of classified documents that were found in his mar a lago home last year',\n",
       "  0.6342749),\n",
       " ('cohen says he turned over cell phones to manhattan prosecutors investigating trump hush money payments by lauren sforza 02 01 23 12 01 pm et email file in this march 6 2019 file photo michael cohen returns to testify on capitol hill in washington the former trump lawyer is working with the manhattan da to look into hush payments the former president made to stormy daniels ap photo j scott applewhite file former trump attorney michael cohen on wednesday revealed that he recently turned over his cell phones to manhattan prosecutors who are investigating hush money payments paid to adult film star stormy daniels ahead of the 2016 elections most recently they asked for my cell phones because they want to be able to extract from it the voice recordings that i had had with keith davidson former attorney to stormy daniels before michael avenatti as well as a bunch of emails text messages and so on cohen told don lemon on cnn s this morning the phones which were previously taken by federal investigators in 2018 are new to the district attorney cohen said he noted that his cell phone can serve as evidence if the investigation is moved forward which he suspects will happen cohen pleaded guilty in 2018 to eight charges including bank fraud tax fraud and campaign finance violations this also included one count of making an excessive campaign contribution on oct 27 2016 the same date that cohen paid daniels in a nondisclosure agreement over an affair daniels says she had with trump the new york times reported that the manhattan district attorney alvin bragg d is escalating his criminal investigation into former president trump by showing evidence of hush money payments to daniels to a grand jury the times added that showing evidence demonstrates that bragg is closer to making a decision for or against formally charging trump with criminal charges matt schlapp accuser files second lawsuit sharpton says tyre nichols funeral will be about justice not politics when shown the newly released video of trump pleading the fifth more than 400 times in a deposition he gave in august cohen said that trump could not keep track of the lies he tells i mean donald cannot keep track of the lies that he tells he quipped and so what better way than to stop a fool from being deposed and hurting himself further than to come to plead the fifth at least 400 times trump is also facing other legal challenges including questions into actions he may have taken in georgia s 2020 election and an investigation into his handling of classified documents that were found in his mar a lago home last year',\n",
       "  0.63231015),\n",
       " ('11 25 why a trump special grand jury in new york wouldn t be like georgia we know by now that the special grand jury in fulton county georgia can t bring charges that s not true for special grand juries in new york jan 30 2023 10 20 pm utc by jordan rubin the manhattan district attorney s office is presenting evidence to what s likely a special grand jury for donald trump s role in the stormy daniels hush money payment scheme the new york times reported monday but unlike the special grand jury in fulton county georgia that doesn t have the authority to bring criminal charges against trump or anyone else a special grand jury in new york does as the times reported monday the panel hearing evidence about the hush money is likely what s known as a special grand jury like regular grand juries it is made up of 23 manhattan residents chosen at random but its members are sworn in to serve for six months to hear complex cases rather than the routine 30 day panels that review evidence and vote on whether to bring charges in cases of burglary assault robbery murder and other crimes it s unclear how long it would take a manhattan special grand jury to vote for criminal charges but if one votes for such charges new york prosecutors shouldn t have to go through the extra step of presenting charges to another regular grand jury like fulton county district attorney fani willis has to do in georgia if she wants to bring charges recall that willis said last week that decisions are imminent from her office so even if trump is set to face charges in both states it s likely that we ll hear from her before we hear from manhattan district attorney alvin bragg jordan rubin jordan rubin is the deadline legal blog writer he previously served as a prosecutor for the manhattan district attorney s office and is the author of the forthcoming book bizarro about the secret war on synthetic drugs prior to joining msnbc he was a legal reporter for bloomberg law',\n",
       "  0.61612105),\n",
       " ('11 19 trump lumps himself in with al capone yes again it s one thing when donald trump s critics equate his alleged misconduct with infamous criminals it s something else when he does this to himself feb 1 2023 5 39 pm utc by steve benen donald trump is well aware of the fact that he s facing serious legal troubles including possible indictments not surprisingly this has led the former president to hire a small army of defense attorneys this week the republican used his social media platform to complain about all of this in a curious way because of the weaponization targeting and unprecedented harassment i believe that i have more lawyers working for me on this corrupt law enforcement induced bull than any human being in the history of our country including even the late great gangster alphonse capone this is all being done for political reasons in that i am leading everybody republicans democrats by big numbers in the polls the disinformation specialists are at it again full time the fake news is their tool obviously much of this is nonsense and there s no reason to believe the criminal investigations trump is facing are the result of a corrupted process but what stood out for me was the fact that the former president lumped himself in with al capone what s more this wasn t the first time about a year ago in an online statement that s since been deleted trump also whined about his legal difficulties by complaining never before has this happened to another president and it is an absolute violation of my civil rights i ve been investigated by the democrats more than billy the kid jesse james and al capone combined at face value it s obviously unfortunate to see the former president present himself to the public as some kind of victim solely because a variety of prosecutors in multiple jurisdictions are taking a closer look at his alleged wrongdoing but revisiting our coverage from last year it s still trump s comparison that stands out the republican apparently thought it d be a good idea to issue a written statement in which he lumped himself in with a murderer a notorious bank robber and one of the most powerful organized crime figures in american history ten months later he still thinks it s a good idea to lump himself in with capone it s one thing when the former president s critics equate his alleged misconduct with infamous criminals it s something else when trump does this to himself',\n",
       "  0.4712928)]"
      ]
     },
     "execution_count": 47,
     "metadata": {},
     "output_type": "execute_result"
    }
   ],
   "source": []
  },
  {
   "cell_type": "markdown",
   "metadata": {
    "id": "sH_yv3mp2P_r"
   },
   "source": [
    "## Search engine\n",
    "\n",
    "Write a search engine that can retrieve documents related to a given query based on semantic similarity. Given a query, map it to a vector using the same technique you used for the documents. Then, retrieve the documents that are most similar to the query vector based on cosine similarity or another distance metric."
   ]
  },
  {
   "cell_type": "code",
   "execution_count": 48,
   "metadata": {
    "id": "uH0VF2iZ2P_s",
    "tags": []
   },
   "outputs": [],
   "source": [
    "## YOUR CODE HERE\n",
    "def find_similar_docs(text, num_results=10):\n",
    "    #send the text through the same pipeline as when we made our model\n",
    "    text = clean_text(text) \n",
    "    vec_bow = dictionary.doc2bow(text.split())\n",
    "    vec_tfidf = tfidf[vec_bow]\n",
    "    vec_lsi = lsi[vec_tfidf]\n",
    "    sims = index_lsi[vec_lsi]\n",
    "    sims = sorted(enumerate(sims), key=lambda item: -item[1])\n",
    "    \n",
    "    results = [] \n",
    "    for i in range(num_results):\n",
    "        index, score = sims[i]\n",
    "        results.append((df2['text'][index], score))\n",
    "    return results"
   ]
  },
  {
   "cell_type": "code",
   "execution_count": 49,
   "metadata": {
    "collapsed": true,
    "jupyter": {
     "outputs_hidden": true
    },
    "tags": []
   },
   "outputs": [
    {
     "data": {
      "text/plain": [
       "[('manhattan prosecutors are likely to notice that stormy daniels has publicly thanked trump for posting confirmation of her story about the illegal hush money payments daniels tweeted thanks for just admitting that i was telling the truth about everything guess i ll take my horse face back to bed now mr former president btw that s the correct way to use quotation marks pic twitter com vsg867kwk8 as the manhattan district attorney is presenting evidence in front of a criminal grand jury about hush money payments donald trump was on his social media platform confirming that the story is true trump is trying to claim that the whole illegal plot was michael cohen s fault and the use of the statement advice of counsel is a signal that he is going to be trying to throw lawyers under the bus donald trump always thinks he is his best pr person and legal counsel but every time he makes a public statement he digs the hole deeper trump is also his own worst enemy because if there were ever a time to shut up and not confirm the story of the person who received the illegal payment it would be when the district attorney is presenting evidence to a grand jury and weighing an indictment when people suggest that trump is the same or nothing has changed that does not appear to be accurate trump s impulses seem to have grown worse donald trump thinks that he is defending himself but he could be sowing the seeds for his conviction jason easley jason is the managing editor he is also a white house press pool and a congressional correspondent for politicususa jason has a bachelor s degree in political science his graduate work focused on public policy with a specialization in social reform movements awards and professional memberships',\n",
       "  1.0),\n",
       " ('rachel maddow showed how trump committed a crime then had everyone bend over backward to protect him from prosecution and the damage he has done to the doj and the rule of law video maddow said so this is a crime that was committed in 2016 the last time it was in court was in 2018 the last time someone went to jail for this crime was in 2019 federal prosecutors bobbled it and they simultaneously blocked state prosecutors from pursuing it themselves for a long time there was also a weird interlude where one manhattan d a one new york state prosecutor started an investigation into this matter and then a new prosecutor came into office and stopped that investigation and then the new prosecutor restarted it a few months later after some of the lawyers who had been working on trump related investigations quit in protest and did so loudly this has been a weird saga this has been an on again off again criminal case at its core it is a simple crime it is a very understandable crime one in which the evidence is really clear and for years now i mean we re going on seven years since the crime five years since people started going to prison for it for years people have been doing backflips to make sure there are no consequences for the guy who committed the crime and was the only one to benefit from it the purpose was to help donald trump s campaign for president he did become the president which apparently does give you carte blanche to stay out of handcuffs for four years while occupying the oval office but not after it doesn t last once you re out once you are out of the oval office you re supposed to go back to being the kind of person who isn t allowed to get caught committing crimes without having to pay it has taken alt of these years i am happy to say stormy daniels is doing fine she s doing better than fine we re about to find out if we can say the same about the rule of law and the justice system which they royally screwed up subscribe to our newsletter the case itself is not complicated it is fairly open and shut donald trump broke the law by paying stormy daniels hush money during the 2016 presidential campaign we know that donald trump is the man behind the crime donald trump benefitted from the crime but because he made it to the white house trump was able to use the power of the presidency to cover up his crime and block investigations electing joe biden president did not fix the rule of law and the department of justice the doj may never be the same again precedents have been set that another corrupt future president could easily follow the best way to reestablish the rule of law in the united states is to criminally charge donald j trump jason easley jason is the managing editor he is also a white house press pool and a congressional correspondent for politicususa jason has a bachelor s degree in political science his graduate work focused on public policy with a specialization in social reform movements awards and professional memberships',\n",
       "  0.78586006),\n",
       " ('msnbc s nicolle wallace played a round up of investigators and prosecutors saying that beyond a reasonable doubt trump committed crimes video nicolledwallace plays a round up of prosecutors and investigators saying that beyond a reasonable doubt trump committed crimes pic twitter com 3nvcqtm9fd sarah reese jones politicussarah january 31 2023 wallace said let me pull back the curtain for a minute and talk about why we re starting here in a normal moment the extraordinary to hear a former president take the fifth amendment which is his right his privilege against incriminating himself it s a story we weren t positive that was even the top story today but i want to play this for all of you this is people not like me former political actors or people in the news these are lifelong prosecutors people who run investigations into trump saying that beyond a reasonable person s assessment and based on our investigation he committed crimes nicolle wallace then asked andrew weissmann why if there is so much evidence against trump nothing ever happens to him weissmann answered i mean so look there has been such a long period where it appears that donald trump is circling the drain but everyone has heard that over and over again and they re not seeing accountability now when he was president it is important to know he could not under department of justice guidelines be prosecuted that didn t however prevent either manhattan or georgia at the state level from bringing a case and you do see signs of life particularly in georgia that they are pursuing it now that he is no longer the president i do think that you re seeing a whole series of ways that he is being held to account it matters that there is video of trump taking the fifth hundreds of times because there is ample evidence elsewhere that donald trump committed crimes in hindsight donald trump was saved from prosecution for years by being in the white house and before he became president trump never had national scrutiny on his business dealings and behavior the video released by ag james shows trump looking weak and it could be the final blow that wrecks his self made myth jason easley jason is the managing editor he is also a white house press pool and a congressional correspondent for politicususa jason has a bachelor s degree in political science his graduate work focused on public policy with a specialization in social reform movements awards and professional memberships',\n",
       "  0.73397374),\n",
       " ('president donald trump greets people at a new year event at his mar a lago home on december 31 2022 in palm beach florida joe raedle getty images andrew prokop is a senior politics correspondent at vox covering the white house elections and political scandals and investigations he s worked at vox since the site s launch in 2014 and before that he worked as a research assistant at the new yorker s washington dc bureau amid the many investigations of former president donald trump that are going on right now a new or rather an old one has gained some unexpected momentum this week the new york district attorney s office began presenting evidence to a grand jury about whether trump violated the law in connection with a 130 000 hush money payment to stormy daniels the new york times reports you may be thinking stormy daniels that s a name i ve not heard in a long time indeed the world first learned of daniels in 2018 when the wall street journal broke news that trump organization lawyer michael cohen had arranged the payment made shortly before the 2016 election so the adult film actress wouldn t go public with her claim to have had an affair with trump cohen already under investigators scrutiny eventually pleaded guilty in august 2018 to violating federal campaign finance laws with that payment and others in charging documents that famously identified trump as individual 1 cohen claimed he d made the illegal payment at trump s direction so there was much speculation about whether trump was on the hook for violating campaign finance law too but instead the case fizzled out a federal investigation was closed in 2019 and the new york district attorney s office looked into it but seemed to lose interest in favor of pursuing a sprawling probe of trump s business dealings so why is it back now in 2023 only manhattan district attorney alvin bragg truly knows the answer to that but some context is that when bragg first took office early last year he put the brakes on the trump business probe a decision that spurred two prosecutors to resign and was intensely criticized amid this backlash and intensifying legal jeopardy for trump federally and in the state of georgia bragg appears to have rethought his earlier hesitancy and he s now embraced what the times reports had become known in his office as the zombie theory of pursuing charges based on the hush money but whether these possible charges if filed will prove strong enough to survive court scrutiny is far from clear it s been a while what was the hush money scandal about again stormy daniels attends an event on may 11 2022 in los angeles california phillip faraone getty images in october 2016 weeks before the presidential election as trump was being publicly besieged by a series of sexual harassment or assault accusations from many different women adult film actress stormy daniels was preparing to come forward with her own story about a consensual sexual encounter she d had with trump in 2006 but her representatives let it be known she d also be willing to accept payment for her silence earlier in the campaign cohen had worked with american media inc the parent company of the national enquirer to catch and kill unflattering stories about trump in which ami would pay accusers for the exclusive rights to their story and then not publish those stories ami executives were involved in the discussions about paying daniels too but they ultimately balked so cohen had to take care of it himself cohen set up a shell company essential consultants and sent 130 000 to daniels s lawyer on october 27 later after trump won the election he paid cohen back in installments in 2017 the problem federal prosecutors in the southern district of new york later alleged was that this violated campaign finance law they argued that since that this money was spent to help trump win the election it should have been disclosed as campaign spending and subject to legal limits on donations cohen pleaded guilty to this charge as part of a larger plea deal so the case was never tested in front of a jury yet prosecutors theory wasn t universally accepted the new york times described it as a somewhat novel use of campaign finance law and attorney general bill barr sharply questioned it after he took office in any case sdny prosecutors told a judge in july 2019 the case was closed in part because trump was the sitting president and per justice department policy he could not be indicted as trump was about to leave office in 2021 though sdny prosecutors revisited the case discussing whether they should reopen it when he no longer had presidential immunity according to cnn legal analyst elie honig s recent book untouchable prosecutors were split on the strength of the case some believed the evidence was more than enough to charge in an ordinary case while others thought it was still a close call though still chargeable honig writes continuing even if the evidence was sufficient to support a charge it also wasn t a slam dunk case in the majority view he adds that some on the team believed the hush money scheme was serious but not the end of the world and that it seemed somehow trivial and outdated compared to his later acts like trying to overturn joe biden s election win so ultimately sdny decided to let it lie so how did this move to the manhattan district attorney manhattan district attorney alvin bragg arrives to the courtroom during the trump organization tax fraud trial at the new york supreme court on december 6 2022 in new york city michael m santiago getty images after news became public that sdny had dropped the hush money case in 2019 then manhattan district attorney cy vance picked it up bringing cohen in for interviews and seeking trump s tax returns but the investigation soon sprawled outward first there was the real estate valuations case vance s prosecutors developed a theory backed by public evidence and cohen s testimony that trump overvalued certain properties when he sought loans and insurance policies but undervalued those assets for tax purposes so he d owe less in property taxes they explored charges over tax fraud bank fraud and insurance fraud but the problem was proving trump knew his company was breaking the law since he could have argued that everything his company did was approved by his chief financial officer and legal team who were experts in such matters so prosecutors zeroed in on that cfo allen weisselberg pressuring him for months to flip on trump weisselberg did not do so so next came the fringe benefits case in july 2021 vance s office charged weisselberg and several trump business entities with tax fraud the company had paid apartment and car leases for weisselberg and private school tuition for his grandchildren without subjecting it to taxes trump himself was not charged and the maximum penalties for trump s company were relatively small so this wasn t all that threatening a case with that trial pending vance left office and bragg the newly elected district attorney inherited the trump probes in early 2022 after being briefed on the real estate valuations case he reportedly wasn t impressed per the new york times bragg told the two lead prosecutors that he had doubts about moving forward with the case and paused grand jury activity those two lead prosecutors resigned in february and one mark pomerantz has a book coming out next week giving his account of what happened bragg elected as a criminal justice reformer then faced intense criticism in the media and from democrats for being too lenient toward trump he said little at first but by april he said the real estate valuations case was still moving forward the fringe benefits case meanwhile was still heading for trial and in august weisselberg agreed to change his plea to guilty though he still didn t flip on trump and was sentenced to five months in jail trump s businesses were then convicted at the trial and sentenced to pay a 1 6 million fine and at some point last year bragg s office turned back to where the manhattan da s investigation all started the hush money it recently convened a grand jury to hear evidence and brought in cohen for yet another round of talks we don t know why exactly they have returned to the hush money and we also don t know how strong the case is importantly the da can only charge violations of new york state law so federal campaign finance charges aren t relevant here according to new york times reporters william rashbaum ben protess jonah bromwich and hurubie meko though prosecutors have a theory about how to charge it the key is that when trump paid cohen back for the hush money he classified it as legal fees prosecutors want to argue that that amounted to illegal falsification of business records but since that would only be a misdemeanor and hardly worth charging they also want to argue this was done in violation of new york state election law which makes it a felony that second aspect has largely gone untested and would therefore make for a risky legal case against any defendant let alone the former president the times reporters write this seems to pose the possibility that the hush money case is a bit of a reach a zombie legal theory being resurrected now that bragg has seemingly realized he ll benefit more politically from being seen as trying to take trump down though we can t say for sure without understanding more about his evidence and legal reasoning will you support vox s explanatory journalism millions turn to vox to educate themselves their family and their friends about what s happening in the world around them and to learn about things that spark their curiosity financial contributions from our readers are a critical part of supporting our resource intensive work and help us keep our journalism free for all please consider making a one time contribution to vox today one time',\n",
       "  0.70243466),\n",
       " ('top trump organization executive to appear before grand jury the manhattan da is investigating a payment made by trump to stormy daniels february 1 2023 1 45 pm 0 26 trump organization senior vice president and controller jeffrey mcconney returns to the courthouse after a break in the company s trial on nov 1 2022 in new york seth wenig ap file the trump organization s controller is expected to testify thursday before a grand jury in new york that is investigating whether former president donald trump played a role in the hush payment to adult film actress stormy daniels ahead of the 2016 presidential election sources familiar with the matter told abc news jeffrey mcconney has worked at the trump organization for more than three decades and was a subordinate to its former chief financial officer allen weisselberg who is now serving jail time after he pleaded guilty to tax fraud mcconney appeared more than a half dozen times before a grand jury about illegal practices at the trump organization and he testified at the company s trial late last year that resulted in a conviction on charges it paid certain executives as independent contractors and through under the table perks former president donald trump speaks during the new hampshire republican state committee 2023 annual meeting jan 28 2023 in salem n h reba saldanha ap mcconney is expected to appear before the new grand jury convened to hear evidence by the manhattan district attorney s office about the payment to daniels meant to keep quiet about her long denied affair with trump the sources said a spokeswoman for the district attorney s office declined to comment an attorney for mcconney also declined to comment more former national enquirer publisher appears before donald trump grand jury mcconney s anticipated grand jury appearance was first reported by cnn the former publisher of the national enquirer david pecker appeared before the grand jury earlier this week the sources said pecker helped broker a 150 000 payment to daniels according to federal prosecutors who previously investigated the arrangement and reached a non prosecution agreement with pecker s employer ami trump organization senior vice president and controller jeffrey mcconney returns to the courthouse after a break in the company s trial on nov 1 2022 in new york seth wenig ap file pecker interviewed daniels about her alleged affair in june 2016 and agreed to acquire the story for the purposes of burying it a practice known in the tabloid industry as catch and kill prosecutors believe the payment violated campaign finance laws governing expenditures made for purposes of influencing an election and in coordination with a candidate or his campaign trump has denied knowing about the payment that was arranged through his former personal attorney michael cohen the manhattan district attorney s office is investigating whether the trump organization falsified business records in the way it recorded a reimbursement payment to cohen sources familiar with the investigation have told abc news related topics',\n",
       "  0.65920746),\n",
       " ('email associated press seth wenig a trump organization executive is expected to testify before a grand jury in manhattan that is investigating former president trump s role in hush money payments paid to adult film star stormy daniels right before the 2016 election cnn reported jeffrey mcconney the controller of the trump organization is expected to appear before the grand jury as manhattan district attorney ramps up his criminal investigation into trump the new york times reported that district attorney alvin bragg d is escalating the investigation through giving the grand jury evidence about hush money paid to daniels in 2016 bragg spokeswoman danielle filson declined to comment on or confirm whether mcconney will appear according to the times bragg is also seeking to interview former employees of the national enquirer which helped make the deal with daniels david pecker the former publisher of the national enquirer was seen with his lawyer walking into the building that the grand jury is in the times reported these new developments in the manhattan prosecutors investigation come after the trump organization was found guilty of tax fraud in december testimonies from mcconney and former chief financial officer allen weisselberg who pleaded guilty to tax evasion as part of a deal with prosecutors in august helped the prosecutors back up the case that led to the conviction judge blocks nj law allowing state to sue gun industry gop led states call on court to shut down daca shortly after the conviction in december bragg reiterated that the investigation was ongoing and that the case was one chapter in the book for his team s investigation trump s former attorney michael cohen said on wednesday that he turned over his cellphones to the manhattan prosecutors that included text messages emails and voice messages he exchanged with keith davidson former attorney to daniels he said the contents will help serve as evidence if the prosecutors move forward in the case which he suspected they will cohen pleaded guilty to eight charges in 2018 including one count of making an excessive campaign contribution on oct 27 2016 the same date that cohen paid daniels in a nondisclosure agreement over an affair daniels alleges she had with trump trump denies that the affair happened',\n",
       "  0.6577865),\n",
       " ('cohen says he turned over cellphones to manhattan prosecutors investigating trump hush money payments by lauren sforza 02 01 23 12 01 pm et email file in this march 6 2019 file photo michael cohen returns to testify on capitol hill in washington the former trump lawyer is working with the manhattan da to look into hush payments the former president made to stormy daniels ap photo j scott applewhite file former trump attorney michael cohen on wednesday revealed that he recently turned over his cellphones to manhattan prosecutors who are investigating hush money payments paid to adult film star stormy daniels ahead of the 2016 elections most recently they asked for my cellphones because they want to be able to extract from it the voice recordings that i had had with keith davidson former attorney to stormy daniels before michael avenatti as well as a bunch of emails text messages and so on cohen told don lemon on cnn s this morning the phones which were previously taken by federal investigators in 2018 are new to the district attorney cohen said he noted that his cellphone can serve as evidence if the investigation is moved forward which he suspects will happen cohen pleaded guilty in 2018 to eight charges including bank fraud tax fraud and campaign finance violations this also included one count of making an excessive campaign contribution on oct 27 2016 the same date that cohen paid daniels in a nondisclosure agreement over an affair daniels says she had with former president trump the new york times reported that the manhattan district attorney alvin bragg d is escalating his criminal investigation into trump by showing evidence of hush money payments to daniels to a grand jury the times added that showing evidence demonstrates that bragg is closer to making a decision for or against formally charging trump with criminal charges matt schlapp accuser files second lawsuit sharpton says tyre nichols funeral will be about justice not politics when shown the newly released video of trump pleading the fifth more than 400 times in a deposition he gave in august cohen said that trump could not keep track of the lies he tells i mean donald cannot keep track of the lies that he tells he said and so what better way than to stop a fool from being deposed and hurting himself further than to come to plead the fifth at least 400 times trump is also facing other legal challenges including questions into actions he may have taken in georgia s 2020 election and an investigation into his handling of classified documents that were found in his mar a lago home last year',\n",
       "  0.6342749),\n",
       " ('cohen says he turned over cell phones to manhattan prosecutors investigating trump hush money payments by lauren sforza 02 01 23 12 01 pm et email file in this march 6 2019 file photo michael cohen returns to testify on capitol hill in washington the former trump lawyer is working with the manhattan da to look into hush payments the former president made to stormy daniels ap photo j scott applewhite file former trump attorney michael cohen on wednesday revealed that he recently turned over his cell phones to manhattan prosecutors who are investigating hush money payments paid to adult film star stormy daniels ahead of the 2016 elections most recently they asked for my cell phones because they want to be able to extract from it the voice recordings that i had had with keith davidson former attorney to stormy daniels before michael avenatti as well as a bunch of emails text messages and so on cohen told don lemon on cnn s this morning the phones which were previously taken by federal investigators in 2018 are new to the district attorney cohen said he noted that his cell phone can serve as evidence if the investigation is moved forward which he suspects will happen cohen pleaded guilty in 2018 to eight charges including bank fraud tax fraud and campaign finance violations this also included one count of making an excessive campaign contribution on oct 27 2016 the same date that cohen paid daniels in a nondisclosure agreement over an affair daniels says she had with trump the new york times reported that the manhattan district attorney alvin bragg d is escalating his criminal investigation into former president trump by showing evidence of hush money payments to daniels to a grand jury the times added that showing evidence demonstrates that bragg is closer to making a decision for or against formally charging trump with criminal charges matt schlapp accuser files second lawsuit sharpton says tyre nichols funeral will be about justice not politics when shown the newly released video of trump pleading the fifth more than 400 times in a deposition he gave in august cohen said that trump could not keep track of the lies he tells i mean donald cannot keep track of the lies that he tells he quipped and so what better way than to stop a fool from being deposed and hurting himself further than to come to plead the fifth at least 400 times trump is also facing other legal challenges including questions into actions he may have taken in georgia s 2020 election and an investigation into his handling of classified documents that were found in his mar a lago home last year',\n",
       "  0.63231015),\n",
       " ('11 25 why a trump special grand jury in new york wouldn t be like georgia we know by now that the special grand jury in fulton county georgia can t bring charges that s not true for special grand juries in new york jan 30 2023 10 20 pm utc by jordan rubin the manhattan district attorney s office is presenting evidence to what s likely a special grand jury for donald trump s role in the stormy daniels hush money payment scheme the new york times reported monday but unlike the special grand jury in fulton county georgia that doesn t have the authority to bring criminal charges against trump or anyone else a special grand jury in new york does as the times reported monday the panel hearing evidence about the hush money is likely what s known as a special grand jury like regular grand juries it is made up of 23 manhattan residents chosen at random but its members are sworn in to serve for six months to hear complex cases rather than the routine 30 day panels that review evidence and vote on whether to bring charges in cases of burglary assault robbery murder and other crimes it s unclear how long it would take a manhattan special grand jury to vote for criminal charges but if one votes for such charges new york prosecutors shouldn t have to go through the extra step of presenting charges to another regular grand jury like fulton county district attorney fani willis has to do in georgia if she wants to bring charges recall that willis said last week that decisions are imminent from her office so even if trump is set to face charges in both states it s likely that we ll hear from her before we hear from manhattan district attorney alvin bragg jordan rubin jordan rubin is the deadline legal blog writer he previously served as a prosecutor for the manhattan district attorney s office and is the author of the forthcoming book bizarro about the secret war on synthetic drugs prior to joining msnbc he was a legal reporter for bloomberg law',\n",
       "  0.61612105),\n",
       " ('11 19 trump lumps himself in with al capone yes again it s one thing when donald trump s critics equate his alleged misconduct with infamous criminals it s something else when he does this to himself feb 1 2023 5 39 pm utc by steve benen donald trump is well aware of the fact that he s facing serious legal troubles including possible indictments not surprisingly this has led the former president to hire a small army of defense attorneys this week the republican used his social media platform to complain about all of this in a curious way because of the weaponization targeting and unprecedented harassment i believe that i have more lawyers working for me on this corrupt law enforcement induced bull than any human being in the history of our country including even the late great gangster alphonse capone this is all being done for political reasons in that i am leading everybody republicans democrats by big numbers in the polls the disinformation specialists are at it again full time the fake news is their tool obviously much of this is nonsense and there s no reason to believe the criminal investigations trump is facing are the result of a corrupted process but what stood out for me was the fact that the former president lumped himself in with al capone what s more this wasn t the first time about a year ago in an online statement that s since been deleted trump also whined about his legal difficulties by complaining never before has this happened to another president and it is an absolute violation of my civil rights i ve been investigated by the democrats more than billy the kid jesse james and al capone combined at face value it s obviously unfortunate to see the former president present himself to the public as some kind of victim solely because a variety of prosecutors in multiple jurisdictions are taking a closer look at his alleged wrongdoing but revisiting our coverage from last year it s still trump s comparison that stands out the republican apparently thought it d be a good idea to issue a written statement in which he lumped himself in with a murderer a notorious bank robber and one of the most powerful organized crime figures in american history ten months later he still thinks it s a good idea to lump himself in with capone it s one thing when the former president s critics equate his alleged misconduct with infamous criminals it s something else when trump does this to himself',\n",
       "  0.4712928)]"
      ]
     },
     "execution_count": 49,
     "metadata": {},
     "output_type": "execute_result"
    }
   ],
   "source": [
    "find_similar_docs(df2['text'][0]) #This should return a 100% similarity score with the first doc as it is the same text"
   ]
  },
  {
   "cell_type": "markdown",
   "metadata": {
    "id": "Dv5t7NDh2P_t"
   },
   "source": [
    "## Extra credit\n",
    "\n",
    "Based on the results of your search engine, write a kmeans clustering algorithm that can cluster the documents into groups based on their semantic similarity, along with some topics words that can describe each cluster. Some tips are to look into kmeans++, DBSCAN, and agglomerative clustering. For example, see this blog post: https://towardsdatascience.com/silhouette-method-better-than-elbow-method-to-find-optimal-clusters-378d62ff6891"
   ]
  },
  {
   "cell_type": "code",
   "execution_count": null,
   "metadata": {
    "id": "rK8UzBn-2P_u"
   },
   "outputs": [],
   "source": [
    "## YOUR CODE HERE"
   ]
  }
 ],
 "metadata": {
  "colab": {
   "provenance": []
  },
  "kernelspec": {
   "display_name": "Python 3 (ipykernel)",
   "language": "python",
   "name": "python3"
  },
  "language_info": {
   "codemirror_mode": {
    "name": "ipython",
    "version": 3
   },
   "file_extension": ".py",
   "mimetype": "text/x-python",
   "name": "python",
   "nbconvert_exporter": "python",
   "pygments_lexer": "ipython3",
   "version": "3.10.9"
  }
 },
 "nbformat": 4,
 "nbformat_minor": 4
}
